{
 "cells": [
  {
   "cell_type": "markdown",
   "id": "bridal-disorder",
   "metadata": {},
   "source": [
    "# Homework3\n",
    "\n",
    "> Note all tests use the `5%` significance level for type-I error and use `10`\n",
    "lags in all ACF or ARCH-effect tests.\n",
    "\n",
    "##  1. SBUX return\n",
    "The file d-sbuxsp0106.txt contains the daily simple returns of Starbucks stock (SBUX) and the S&P 500 composite index from 1996 to 2006. The file consists of date, SBUX return, and S&P returns in three\n",
    "columns. The returns include dividends. Convert the simple returns into\n",
    "percentage log returns."
   ]
  },
  {
   "cell_type": "code",
   "execution_count": 1,
   "id": "varied-minnesota",
   "metadata": {},
   "outputs": [],
   "source": [
    "# read csv data\n",
    "sbux_simple_return = read.csv(\"data/d-sbuxsp0106.csv\")[,2]"
   ]
  },
  {
   "cell_type": "code",
   "execution_count": 2,
   "id": "headed-employment",
   "metadata": {},
   "outputs": [],
   "source": [
    "# convert simple return into percentage log return\n",
    "sbux_data = 100*log(1+sbux_simple_return)"
   ]
  },
  {
   "cell_type": "code",
   "execution_count": 3,
   "id": "acute-second",
   "metadata": {},
   "outputs": [
    {
     "data": {
      "image/png": "[encoded data removed]",
      "text/plain": [
       "Plot with title \"plot of daily log returns\""
      ]
     },
     "metadata": {
      "image/png": {
       "height": 420,
       "width": 420
      }
     },
     "output_type": "display_data"
    }
   ],
   "source": [
    "plot(sbux_data,xlab=\"t\",ylab=\"log return\",main=\"plot of daily log returns\",type=\"l\",col=\"red\")"
   ]
  },
  {
   "cell_type": "markdown",
   "id": "cardiac-israel",
   "metadata": {},
   "source": [
    "### a. Is there any serial correlation in the log returns of Starbucks stock?"
   ]
  },
  {
   "cell_type": "code",
   "execution_count": 4,
   "id": "naked-prerequisite",
   "metadata": {},
   "outputs": [
    {
     "data": {
      "image/png": "[encoded data removed]",
      "text/plain": [
       "Plot with title \"ACF\""
      ]
     },
     "metadata": {
      "image/png": {
       "height": 420,
       "width": 420
      }
     },
     "output_type": "display_data"
    }
   ],
   "source": [
    "acf(sbux_data,10,main=\"ACF\",col=\"red\",ylim=c(-0.2,1))"
   ]
  },
  {
   "cell_type": "code",
   "execution_count": 5,
   "id": "applied-image",
   "metadata": {},
   "outputs": [
    {
     "data": {
      "text/plain": [
       "\n",
       "\tBox-Ljung test\n",
       "\n",
       "data:  sbux_data\n",
       "X-squared = 19.823, df = 10, p-value = 0.03098\n"
      ]
     },
     "metadata": {},
     "output_type": "display_data"
    }
   ],
   "source": [
    "Box.test(sbux_data,lag=10,type=\"Ljung\")"
   ]
  },
  {
   "cell_type": "markdown",
   "id": "confirmed-oklahoma",
   "metadata": {},
   "source": [
    "Using the $\\alpha=0.05$ significance level, the $p=0.03 < \\alpha$, then reject the null hypothesis. \n",
    "\n",
    "Thus, claim that there is serial correlation in the log return of SBUX data."
   ]
  },
  {
   "cell_type": "markdown",
   "id": "traditional-albuquerque",
   "metadata": {},
   "source": [
    "### b. Is there any ARCH effect in the log returns of Starbucks stock?"
   ]
  },
  {
   "cell_type": "code",
   "execution_count": 6,
   "id": "challenging-aaron",
   "metadata": {},
   "outputs": [
    {
     "data": {
      "image/png": "[encoded data removed]",
      "text/plain": [
       "Plot with title \"\""
      ]
     },
     "metadata": {
      "image/png": {
       "height": 420,
       "width": 420
      }
     },
     "output_type": "display_data"
    }
   ],
   "source": [
    "sbux_at=sbux_data-mean(sbux_data)\n",
    "acf(sbux_at^2,10,main=\"\",col=\"red\",ylim=c(-0.2,0.4))"
   ]
  },
  {
   "cell_type": "code",
   "execution_count": 7,
   "id": "defined-palmer",
   "metadata": {},
   "outputs": [
    {
     "data": {
      "text/plain": [
       "\n",
       "\tBox-Ljung test\n",
       "\n",
       "data:  sbux_at^2\n",
       "X-squared = 59.142, df = 10, p-value = 5.265e-09\n"
      ]
     },
     "metadata": {},
     "output_type": "display_data"
    }
   ],
   "source": [
    "Box.test(sbux_at^2,lag=10,type=\"Ljung\")"
   ]
  },
  {
   "cell_type": "markdown",
   "id": "steady-trade",
   "metadata": {},
   "source": [
    "Using the $\\alpha=0.05$ significance level, the $p=5.27e-9 << \\alpha$, then reject the null hypothesis. \n",
    "\n",
    "Thus, claim that there is ARCH correlation in the log return of SBUX data."
   ]
  },
  {
   "cell_type": "markdown",
   "id": "viral-approval",
   "metadata": {},
   "source": [
    "### c. Fit a GARCH(1,1) model for the percentage log return of Starbucks stock using normal distribution for the innovations. \n",
    "Perform model checking and write down the fitted model."
   ]
  },
  {
   "cell_type": "code",
   "execution_count": 8,
   "id": "biological-crossing",
   "metadata": {},
   "outputs": [
    {
     "name": "stderr",
     "output_type": "stream",
     "text": [
      "Warning message:\n",
      "\"程辑包'fGarch'是用R版本4.2.3 来建造的\"\n",
      "NOTE: Packages 'fBasics', 'timeDate', and 'timeSeries' are no longer\n",
      "attached to the search() path when 'fGarch' is attached.\n",
      "\n",
      "If needed attach them yourself in your R script by e.g.,\n",
      "        require(\"timeSeries\")\n",
      "\n"
     ]
    }
   ],
   "source": [
    "library(fGarch);"
   ]
  },
  {
   "cell_type": "code",
   "execution_count": 9,
   "id": "similar-sunrise",
   "metadata": {},
   "outputs": [
    {
     "name": "stdout",
     "output_type": "stream",
     "text": [
      "\n",
      "Title:\n",
      " GARCH Modelling \n",
      "\n",
      "Call:\n",
      " garchFit(formula = ~garch(1, 1), data = sbux_at, include.mean = F, \n",
      "    trace = F) \n",
      "\n",
      "Mean and Variance Equation:\n",
      " data ~ garch(1, 1)\n",
      "<environment: 0x000001f4b02ec680>\n",
      " [data = sbux_at]\n",
      "\n",
      "Conditional Distribution:\n",
      " norm \n",
      "\n",
      "Coefficient(s):\n",
      "   omega    alpha1     beta1  \n",
      "0.015660  0.019164  0.976655  \n",
      "\n",
      "Std. Errors:\n",
      " based on Hessian \n",
      "\n",
      "Error Analysis:\n",
      "        Estimate  Std. Error  t value Pr(>|t|)    \n",
      "omega   0.015660    0.006521    2.401   0.0163 *  \n",
      "alpha1  0.019164    0.003855    4.971 6.66e-07 ***\n",
      "beta1   0.976655    0.004326  225.777  < 2e-16 ***\n",
      "---\n",
      "Signif. codes:  0 '***' 0.001 '**' 0.01 '*' 0.05 '.' 0.1 ' ' 1\n",
      "\n",
      "Log Likelihood:\n",
      " -3156.141    normalized:  -2.094321 \n",
      "\n",
      "Description:\n",
      " Wed Apr 19 19:01:12 2023 by user: CreatorFan \n",
      "\n",
      "\n",
      "Standardised Residuals Tests:\n",
      "                                Statistic p-Value  \n",
      " Jarque-Bera Test   R    Chi^2  1000.203  0        \n",
      " Shapiro-Wilk Test  R    W      0.9593982 0        \n",
      " Ljung-Box Test     R    Q(10)  11.17971  0.3436896\n",
      " Ljung-Box Test     R    Q(15)  15.70497  0.4019257\n",
      " Ljung-Box Test     R    Q(20)  18.79184  0.5353912\n",
      " Ljung-Box Test     R^2  Q(10)  4.404072  0.9272833\n",
      " Ljung-Box Test     R^2  Q(15)  7.588251  0.9392283\n",
      " Ljung-Box Test     R^2  Q(20)  9.599605  0.9748649\n",
      " LM Arch Test       R    TR^2   5.420476  0.942442 \n",
      "\n",
      "Information Criterion Statistics:\n",
      "     AIC      BIC      SIC     HQIC \n",
      "4.192623 4.203209 4.192615 4.196566 \n",
      "\n"
     ]
    }
   ],
   "source": [
    "sbux_garch = garchFit(~garch(1,1),data=sbux_at,trace = F,include.mean = F)\n",
    "summary(sbux_garch)"
   ]
  },
  {
   "cell_type": "markdown",
   "id": "eastern-final",
   "metadata": {},
   "source": [
    "The model($garch(1,1)$) formula:\n",
    "$$\n",
    "\\begin{aligned}\n",
    "r_t &= \\mu + a_t\\\\\n",
    "a_t &= \\sigma_t \\epsilon_t\\\\\n",
    "\\sigma_t^2&=\\omega+\\alpha_1 a_{t-1}^2+\\beta_1\\sigma_{t-1}^2\n",
    "\\end{aligned}\n",
    "$$"
   ]
  },
  {
   "cell_type": "code",
   "execution_count": 10,
   "id": "bound-batch",
   "metadata": {},
   "outputs": [
    {
     "data": {
      "text/html": [
       "\n",
       "<table style=\"width: 100%;\"><tr><td>read.table {utils}</td><td style=\"text-align: right;\">R Documentation</td></tr></table>\n",
       "\n",
       "<h2>Data Input</h2>\n",
       "\n",
       "<h3>Description</h3>\n",
       "\n",
       "<p>Reads a file in table format and creates a data frame from it, with\n",
       "cases corresponding to lines and variables to fields in the file.\n",
       "</p>\n",
       "\n",
       "\n",
       "<h3>Usage</h3>\n",
       "\n",
       "<pre><code class='language-R'>read.table(file, header = FALSE, sep = \"\", quote = \"\\\"'\",\n",
       "           dec = \".\", numerals = c(\"allow.loss\", \"warn.loss\", \"no.loss\"),\n",
       "           row.names, col.names, as.is = !stringsAsFactors,\n",
       "           na.strings = \"NA\", colClasses = NA, nrows = -1,\n",
       "           skip = 0, check.names = TRUE, fill = !blank.lines.skip,\n",
       "           strip.white = FALSE, blank.lines.skip = TRUE,\n",
       "           comment.char = \"#\",\n",
       "           allowEscapes = FALSE, flush = FALSE,\n",
       "           stringsAsFactors = FALSE,\n",
       "           fileEncoding = \"\", encoding = \"unknown\", text, skipNul = FALSE)\n",
       "\n",
       "read.csv(file, header = TRUE, sep = \",\", quote = \"\\\"\",\n",
       "         dec = \".\", fill = TRUE, comment.char = \"\", ...)\n",
       "\n",
       "read.csv2(file, header = TRUE, sep = \";\", quote = \"\\\"\",\n",
       "          dec = \",\", fill = TRUE, comment.char = \"\", ...)\n",
       "\n",
       "read.delim(file, header = TRUE, sep = \"\\t\", quote = \"\\\"\",\n",
       "           dec = \".\", fill = TRUE, comment.char = \"\", ...)\n",
       "\n",
       "read.delim2(file, header = TRUE, sep = \"\\t\", quote = \"\\\"\",\n",
       "            dec = \",\", fill = TRUE, comment.char = \"\", ...)\n",
       "</code></pre>\n",
       "\n",
       "\n",
       "<h3>Arguments</h3>\n",
       "\n",
       "<table>\n",
       "<tr style=\"vertical-align: top;\"><td><code>file</code></td>\n",
       "<td>\n",
       "<p>the name of the file which the data are to be read from.\n",
       "Each row of the table appears as one line of the file.  If it does\n",
       "not contain an <em>absolute</em> path, the file name is\n",
       "<em>relative</em> to the current working directory,\n",
       "<code>getwd()</code>. Tilde-expansion is performed where supported.\n",
       "This can be a compressed file (see <code>file</code>).\n",
       "</p>\n",
       "<p>Alternatively, <code>file</code> can be a readable text-mode\n",
       "connection (which will be opened for reading if\n",
       "necessary, and if so <code>close</code>d (and hence destroyed) at\n",
       "the end of the function call).  (If <code>stdin()</code> is used,\n",
       "the prompts for lines may be somewhat confusing.  Terminate input\n",
       "with a blank line or an EOF signal, <code>Ctrl-D</code> on Unix and\n",
       "<code>Ctrl-Z</code> on Windows.  Any pushback on <code>stdin()</code> will be\n",
       "cleared before return.)\n",
       "</p>\n",
       "<p><code>file</code> can also be a complete URL.  (For the supported URL\n",
       "schemes, see the &lsquo;URLs&rsquo; section of the help for\n",
       "<code>url</code>.)\n",
       "</p>\n",
       "</td></tr>\n",
       "<tr style=\"vertical-align: top;\"><td><code>header</code></td>\n",
       "<td>\n",
       "<p>a logical value indicating whether the file contains the\n",
       "names of the variables as its first line.  If missing, the value is\n",
       "determined from the file format: <code>header</code> is set to <code>TRUE</code>\n",
       "if and only if the first row contains one fewer field than the\n",
       "number of columns.</p>\n",
       "</td></tr>\n",
       "<tr style=\"vertical-align: top;\"><td><code>sep</code></td>\n",
       "<td>\n",
       "<p>the field separator character.  Values on each line of the\n",
       "file are separated by this character.  If <code>sep = \"\"</code> (the\n",
       "default for <code>read.table</code>) the separator is &lsquo;white space&rsquo;,\n",
       "that is one or more spaces, tabs, newlines or carriage returns.</p>\n",
       "</td></tr>\n",
       "<tr style=\"vertical-align: top;\"><td><code>quote</code></td>\n",
       "<td>\n",
       "<p>the set of quoting characters. To disable quoting\n",
       "altogether, use <code>quote = \"\"</code>.  See <code>scan</code> for the\n",
       "behaviour on quotes embedded in quotes.  Quoting is only considered\n",
       "for columns read as character, which is all of them unless\n",
       "<code>colClasses</code> is specified.</p>\n",
       "</td></tr>\n",
       "<tr style=\"vertical-align: top;\"><td><code>dec</code></td>\n",
       "<td>\n",
       "<p>the character used in the file for decimal points.</p>\n",
       "</td></tr>\n",
       "<tr style=\"vertical-align: top;\"><td><code>numerals</code></td>\n",
       "<td>\n",
       "<p>string indicating how to convert numbers whose conversion\n",
       "to double precision would lose accuracy, see <code>type.convert</code>.\n",
       "Can be abbreviated.  (Applies also to complex-number inputs.)</p>\n",
       "</td></tr>\n",
       "<tr style=\"vertical-align: top;\"><td><code>row.names</code></td>\n",
       "<td>\n",
       "<p>a vector of row names.  This can be a vector giving\n",
       "the actual row names, or a single number giving the column of the\n",
       "table which contains the row names, or character string giving the\n",
       "name of the table column containing the row names.\n",
       "</p>\n",
       "<p>If there is a header and the first row contains one fewer field than\n",
       "the number of columns, the first column in the input is used for the\n",
       "row names.  Otherwise if <code>row.names</code> is missing, the rows are\n",
       "numbered.\n",
       "</p>\n",
       "<p>Using <code>row.names = NULL</code> forces row numbering. Missing or\n",
       "<code>NULL</code> <code>row.names</code> generate row names that are considered\n",
       "to be &lsquo;automatic&rsquo; (and not preserved by <code>as.matrix</code>).\n",
       "</p>\n",
       "</td></tr>\n",
       "<tr style=\"vertical-align: top;\"><td><code>col.names</code></td>\n",
       "<td>\n",
       "<p>a vector of optional names for the variables.\n",
       "The default is to use <code>\"V\"</code> followed by the column number.</p>\n",
       "</td></tr>\n",
       "<tr style=\"vertical-align: top;\"><td><code>as.is</code></td>\n",
       "<td>\n",
       "<p>controls conversion of character variables (insofar as\n",
       "they are not converted to logical, numeric or complex) to factors,\n",
       "if not otherwise specified by <code>colClasses</code>.\n",
       "Its value is either a vector of logicals (values are recycled if\n",
       "necessary), or a vector of numeric or character indices which\n",
       "specify which columns should not be converted to factors.\n",
       "</p>\n",
       "<p>Note: to suppress all conversions including those of numeric\n",
       "columns, set <code>colClasses = \"character\"</code>.\n",
       "</p>\n",
       "<p>Note that <code>as.is</code> is specified per column (not per\n",
       "variable) and so includes the column of row names (if any) and any\n",
       "columns to be skipped.\n",
       "</p>\n",
       "</td></tr>\n",
       "<tr style=\"vertical-align: top;\"><td><code>na.strings</code></td>\n",
       "<td>\n",
       "<p>a character vector of strings which are to be\n",
       "interpreted as <code>NA</code> values.  Blank fields are also\n",
       "considered to be missing values in logical, integer, numeric and\n",
       "complex fields.  Note that the test happens <em>after</em> \n",
       "white space is stripped from the input, so <code>na.strings</code> \n",
       "values may need their own white space stripped in advance.</p>\n",
       "</td></tr>\n",
       "<tr style=\"vertical-align: top;\"><td><code>colClasses</code></td>\n",
       "<td>\n",
       "<p>character.  A vector of classes to be assumed for\n",
       "the columns.  If unnamed, recycled as necessary.  If named, names\n",
       "are matched with unspecified values being taken to be <code>NA</code>.\n",
       "</p>\n",
       "<p>Possible values are <code>NA</code> (the default, when\n",
       "<code>type.convert</code> is used), <code>\"NULL\"</code> (when the column\n",
       "is skipped), one of the atomic vector classes (logical, integer,\n",
       "numeric, complex, character, raw), or <code>\"factor\"</code>, <code>\"Date\"</code>\n",
       "or <code>\"POSIXct\"</code>.  Otherwise there needs to be an <code>as</code>\n",
       "method (from package <span class=\"pkg\">methods</span>) for conversion from\n",
       "<code>\"character\"</code> to the specified formal class.\n",
       "</p>\n",
       "<p>Note that <code>colClasses</code> is specified per column (not per\n",
       "variable) and so includes the column of row names (if any).\n",
       "</p>\n",
       "</td></tr>\n",
       "<tr style=\"vertical-align: top;\"><td><code>nrows</code></td>\n",
       "<td>\n",
       "<p>integer: the maximum number of rows to read in.  Negative\n",
       "and other invalid values are ignored.</p>\n",
       "</td></tr>\n",
       "<tr style=\"vertical-align: top;\"><td><code>skip</code></td>\n",
       "<td>\n",
       "<p>integer: the number of lines of the data file to skip before\n",
       "beginning to read data.</p>\n",
       "</td></tr>\n",
       "<tr style=\"vertical-align: top;\"><td><code>check.names</code></td>\n",
       "<td>\n",
       "<p>logical.  If <code>TRUE</code> then the names of the\n",
       "variables in the data frame are checked to ensure that they are\n",
       "syntactically valid variable names.  If necessary they are adjusted\n",
       "(by <code>make.names</code>) so that they are, and also to ensure\n",
       "that there are no duplicates.</p>\n",
       "</td></tr>\n",
       "<tr style=\"vertical-align: top;\"><td><code>fill</code></td>\n",
       "<td>\n",
       "<p>logical. If <code>TRUE</code> then in case the rows have unequal\n",
       "length, blank fields are implicitly added.  See &lsquo;Details&rsquo;.</p>\n",
       "</td></tr>\n",
       "<tr style=\"vertical-align: top;\"><td><code>strip.white</code></td>\n",
       "<td>\n",
       "<p>logical. Used only when <code>sep</code> has\n",
       "been specified, and allows the stripping of leading and trailing\n",
       "white space from unquoted <code>character</code> fields (<code>numeric</code> fields\n",
       "are always stripped).  See <code>scan</code> for further details\n",
       "(including the exact meaning of &lsquo;white space&rsquo;),\n",
       "remembering that the columns may include the row names.</p>\n",
       "</td></tr>\n",
       "<tr style=\"vertical-align: top;\"><td><code>blank.lines.skip</code></td>\n",
       "<td>\n",
       "<p>logical: if <code>TRUE</code> blank lines in the\n",
       "input are ignored.</p>\n",
       "</td></tr>\n",
       "<tr style=\"vertical-align: top;\"><td><code>comment.char</code></td>\n",
       "<td>\n",
       "<p>character: a character vector of length one\n",
       "containing a single character or an empty string.  Use <code>\"\"</code> to\n",
       "turn off the interpretation of comments altogether.</p>\n",
       "</td></tr>\n",
       "<tr style=\"vertical-align: top;\"><td><code>allowEscapes</code></td>\n",
       "<td>\n",
       "<p>logical.  Should C-style escapes such as\n",
       "&lsquo;<span class=\"samp\">&#8288;\\n&#8288;</span>&rsquo; be processed or read verbatim (the default)?   Note that if\n",
       "not within quotes these could be interpreted as a delimiter (but not\n",
       "as a comment character).  For more details see <code>scan</code>.</p>\n",
       "</td></tr>\n",
       "<tr style=\"vertical-align: top;\"><td><code>flush</code></td>\n",
       "<td>\n",
       "<p>logical: if <code>TRUE</code>, <code>scan</code> will flush to the\n",
       "end of the line after reading the last of the fields requested.\n",
       "This allows putting comments after the last field.</p>\n",
       "</td></tr>\n",
       "<tr style=\"vertical-align: top;\"><td><code>stringsAsFactors</code></td>\n",
       "<td>\n",
       "<p>logical: should character vectors be converted\n",
       "to factors?  Note that this is overridden by <code>as.is</code> and\n",
       "<code>colClasses</code>, both of which allow finer control.</p>\n",
       "</td></tr>\n",
       "<tr style=\"vertical-align: top;\"><td><code>fileEncoding</code></td>\n",
       "<td>\n",
       "<p>character string: if non-empty declares the\n",
       "encoding used on a file (not a connection) so the character data can\n",
       "be re-encoded.  See the &lsquo;Encoding&rsquo; section of the help for\n",
       "<code>file</code>, the &lsquo;R Data Import/Export&rsquo; manual and\n",
       "&lsquo;Note&rsquo;.\n",
       "</p>\n",
       "</td></tr>\n",
       "<tr style=\"vertical-align: top;\"><td><code>encoding</code></td>\n",
       "<td>\n",
       "<p>encoding to be assumed for input strings.  It is\n",
       "used to mark character strings as known to be in\n",
       "Latin-1 or UTF-8 (see <code>Encoding</code>): it is not used to\n",
       "re-encode the input, but allows <span style=\"font-family: Courier New, Courier; color: #666666;\"><b>R</b></span> to handle encoded strings in\n",
       "their native encoding (if one of those two).  See &lsquo;Value&rsquo;\n",
       "and &lsquo;Note&rsquo;.\n",
       "</p>\n",
       "</td></tr>\n",
       "<tr style=\"vertical-align: top;\"><td><code>text</code></td>\n",
       "<td>\n",
       "<p>character string: if <code>file</code> is not supplied and this is,\n",
       "then data are read from the value of <code>text</code> via a text connection.\n",
       "Notice that a literal string can be used to include (small) data sets\n",
       "within R code.\n",
       "</p>\n",
       "</td></tr>\n",
       "<tr style=\"vertical-align: top;\"><td><code>skipNul</code></td>\n",
       "<td>\n",
       "<p>logical: should nuls be skipped?</p>\n",
       "</td></tr>\n",
       "<tr style=\"vertical-align: top;\"><td><code>...</code></td>\n",
       "<td>\n",
       "<p>Further arguments to be passed to <code>read.table</code>.</p>\n",
       "</td></tr>\n",
       "</table>\n",
       "\n",
       "\n",
       "<h3>Details</h3>\n",
       "\n",
       "<p>This function is the principal means of reading tabular data into <span style=\"font-family: Courier New, Courier; color: #666666;\"><b>R</b></span>.\n",
       "</p>\n",
       "<p>Unless <code>colClasses</code> is specified, all columns are read as\n",
       "character columns and then converted using <code>type.convert</code>\n",
       "to logical, integer, numeric, complex or (depending on <code>as.is</code>)\n",
       "factor as appropriate.  Quotes are (by default) interpreted in all\n",
       "fields, so a column of values like <code>\"42\"</code> will result in an\n",
       "integer column.\n",
       "</p>\n",
       "<p>A field or line is &lsquo;blank&rsquo; if it contains nothing (except\n",
       "whitespace if no separator is specified) before a comment character or\n",
       "the end of the field or line.\n",
       "</p>\n",
       "<p>If <code>row.names</code> is not specified and the header line has one less\n",
       "entry than the number of columns, the first column is taken to be the\n",
       "row names.  This allows data frames to be read in from the format in\n",
       "which they are printed.  If <code>row.names</code> is specified and does\n",
       "not refer to the first column, that column is discarded from such files.\n",
       "</p>\n",
       "<p>The number of data columns is determined by looking at the first five\n",
       "lines of input (or the whole input if it has less than five lines), or\n",
       "from the length of <code>col.names</code> if it is specified and is longer.\n",
       "This could conceivably be wrong if <code>fill</code> or\n",
       "<code>blank.lines.skip</code> are true, so specify <code>col.names</code> if\n",
       "necessary (as in the &lsquo;Examples&rsquo;).\n",
       "</p>\n",
       "<p><code>read.csv</code> and <code>read.csv2</code> are identical to\n",
       "<code>read.table</code> except for the defaults.  They are intended for\n",
       "reading &lsquo;comma separated value&rsquo; files (&lsquo;<span class=\"file\">.csv</span>&rsquo;) or\n",
       "(<code>read.csv2</code>) the variant used in countries that use a comma as\n",
       "decimal point and a semicolon as field separator.  Similarly,\n",
       "<code>read.delim</code> and <code>read.delim2</code> are for reading delimited\n",
       "files, defaulting to the TAB character for the delimiter.  Notice that\n",
       "<code>header = TRUE</code> and <code>fill = TRUE</code> in these variants, and\n",
       "that the comment character is disabled.\n",
       "</p>\n",
       "<p>The rest of the line after a comment character is skipped; quotes\n",
       "are not processed in comments.  Complete comment lines are allowed\n",
       "provided <code>blank.lines.skip = TRUE</code>; however, comment lines prior\n",
       "to the header must have the comment character in the first non-blank\n",
       "column.\n",
       "</p>\n",
       "<p>Quoted fields with embedded newlines are supported except after a\n",
       "comment character.  Embedded nuls are unsupported: skipping them (with\n",
       "<code>skipNul = TRUE</code>) may work.\n",
       "</p>\n",
       "\n",
       "\n",
       "<h3>Value</h3>\n",
       "\n",
       "<p>A data frame (<code>data.frame</code>) containing a representation of\n",
       "the data in the file.\n",
       "</p>\n",
       "<p>Empty input is an error unless <code>col.names</code> is specified, when a\n",
       "0-row data frame is returned: similarly giving just a header line if\n",
       "<code>header = TRUE</code> results in a 0-row data frame.  Note that in\n",
       "either case the columns will be logical unless <code>colClasses</code> was\n",
       "supplied.\n",
       "</p>\n",
       "<p>Character strings in the result (including factor levels) will have a\n",
       "declared encoding if <code>encoding</code> is <code>\"latin1\"</code> or\n",
       "<code>\"UTF-8\"</code>.\n",
       "</p>\n",
       "\n",
       "\n",
       "<h3>CSV files</h3>\n",
       "\n",
       "<p>See the help on <code>write.csv</code> for the various conventions\n",
       "for <code>.csv</code> files.  The commonest form of CSV file with row names\n",
       "needs to be read with <code>read.csv(..., row.names = 1)</code> to use the\n",
       "names in the first column of the file as row names.\n",
       "</p>\n",
       "\n",
       "\n",
       "<h3>Memory usage</h3>\n",
       "\n",
       "<p>These functions can use a surprising amount of memory when reading\n",
       "large files.  There is extensive discussion in the &lsquo;R Data\n",
       "Import/Export&rsquo; manual, supplementing the notes here.\n",
       "</p>\n",
       "<p>Less memory will be used if <code>colClasses</code> is specified as one of\n",
       "the six atomic vector classes.  This can be particularly so when\n",
       "reading a column that takes many distinct numeric values, as storing\n",
       "each distinct value as a character string can take up to 14 times as\n",
       "much memory as storing it as an integer.\n",
       "</p>\n",
       "<p>Using <code>nrows</code>, even as a mild over-estimate, will help memory\n",
       "usage.\n",
       "</p>\n",
       "<p>Using <code>comment.char = \"\"</code> will be appreciably faster than the\n",
       "<code>read.table</code> default.\n",
       "</p>\n",
       "<p><code>read.table</code> is not the right tool for reading large matrices,\n",
       "especially those with many columns: it is designed to read\n",
       "<em>data frames</em> which may have columns of very different classes.\n",
       "Use <code>scan</code> instead for matrices.\n",
       "</p>\n",
       "\n",
       "\n",
       "<h3>Note</h3>\n",
       "\n",
       "<p>The columns referred to in <code>as.is</code> and <code>colClasses</code> include\n",
       "the column of row names (if any).\n",
       "</p>\n",
       "<p>There are two approaches for reading input that is not in the local\n",
       "encoding.  If the input is known to be UTF-8 or Latin1, use the\n",
       "<code>encoding</code> argument to declare that.  If the input is in some\n",
       "other encoding, then it may be translated on input.  The <code>fileEncoding</code>\n",
       "argument achieves this by setting up a connection to do the re-encoding\n",
       "into the current locale.  Note that on Windows or other systems not running\n",
       "in a UTF-8 locale, this may not be possible.\n",
       "</p>\n",
       "\n",
       "\n",
       "<h3>References</h3>\n",
       "\n",
       "<p>Chambers, J. M. (1992)\n",
       "<em>Data for models.</em>\n",
       "Chapter 3 of <em>Statistical Models in S</em>\n",
       "eds J. M. Chambers and T. J. Hastie, Wadsworth &amp; Brooks/Cole.\n",
       "</p>\n",
       "\n",
       "\n",
       "<h3>See Also</h3>\n",
       "\n",
       "<p>The &lsquo;R Data Import/Export&rsquo; manual.\n",
       "</p>\n",
       "<p><code>scan</code>, <code>type.convert</code>,\n",
       "<code>read.fwf</code> for reading <em>f</em>ixed <em>w</em>idth\n",
       "<em>f</em>ormatted input;\n",
       "<code>write.table</code>;\n",
       "<code>data.frame</code>.\n",
       "</p>\n",
       "<p><code>count.fields</code> can be useful to determine problems with\n",
       "reading files which result in reports of incorrect record lengths (see\n",
       "the &lsquo;Examples&rsquo; below).\n",
       "</p>\n",
       "<p><a href=\"https://tools.ietf.org/html/rfc4180\">https://tools.ietf.org/html/rfc4180</a> for the IANA definition of\n",
       "CSV files (which requires comma as separator and CRLF line endings).\n",
       "</p>\n",
       "\n",
       "\n",
       "<h3>Examples</h3>\n",
       "\n",
       "<pre><code class='language-R'>## using count.fields to handle unknown maximum number of fields\n",
       "## when fill = TRUE\n",
       "test1 &lt;- c(1:5, \"6,7\", \"8,9,10\")\n",
       "tf &lt;- tempfile()\n",
       "writeLines(test1, tf)\n",
       "\n",
       "read.csv(tf, fill = TRUE) # 1 column\n",
       "ncol &lt;- max(count.fields(tf, sep = \",\"))\n",
       "read.csv(tf, fill = TRUE, header = FALSE,\n",
       "         col.names = paste0(\"V\", seq_len(ncol)))\n",
       "unlink(tf)\n",
       "\n",
       "## \"Inline\" data set, using text=\n",
       "## Notice that leading and trailing empty lines are auto-trimmed\n",
       "\n",
       "read.table(header = TRUE, text = \"\n",
       "a b\n",
       "1 2\n",
       "3 4\n",
       "\")\n",
       "</code></pre>\n",
       "\n",
       "<hr /><div style=\"text-align: center;\">[Package <em>utils</em> version 4.2.2 ]</div>\n",
       "</div>"
      ],
      "text/latex": [
       "\\inputencoding{utf8}\n",
       "\\HeaderA{read.table}{Data Input}{read.table}\n",
       "\\aliasA{read.csv}{read.table}{read.csv}\n",
       "\\aliasA{read.csv2}{read.table}{read.csv2}\n",
       "\\aliasA{read.delim}{read.table}{read.delim}\n",
       "\\aliasA{read.delim2}{read.table}{read.delim2}\n",
       "\\keyword{file}{read.table}\n",
       "\\keyword{connection}{read.table}\n",
       "%\n",
       "\\begin{Description}\\relax\n",
       "Reads a file in table format and creates a data frame from it, with\n",
       "cases corresponding to lines and variables to fields in the file.\n",
       "\\end{Description}\n",
       "%\n",
       "\\begin{Usage}\n",
       "\\begin{verbatim}\n",
       "read.table(file, header = FALSE, sep = \"\", quote = \"\\\"'\",\n",
       "           dec = \".\", numerals = c(\"allow.loss\", \"warn.loss\", \"no.loss\"),\n",
       "           row.names, col.names, as.is = !stringsAsFactors,\n",
       "           na.strings = \"NA\", colClasses = NA, nrows = -1,\n",
       "           skip = 0, check.names = TRUE, fill = !blank.lines.skip,\n",
       "           strip.white = FALSE, blank.lines.skip = TRUE,\n",
       "           comment.char = \"#\",\n",
       "           allowEscapes = FALSE, flush = FALSE,\n",
       "           stringsAsFactors = FALSE,\n",
       "           fileEncoding = \"\", encoding = \"unknown\", text, skipNul = FALSE)\n",
       "\n",
       "read.csv(file, header = TRUE, sep = \",\", quote = \"\\\"\",\n",
       "         dec = \".\", fill = TRUE, comment.char = \"\", ...)\n",
       "\n",
       "read.csv2(file, header = TRUE, sep = \";\", quote = \"\\\"\",\n",
       "          dec = \",\", fill = TRUE, comment.char = \"\", ...)\n",
       "\n",
       "read.delim(file, header = TRUE, sep = \"\\t\", quote = \"\\\"\",\n",
       "           dec = \".\", fill = TRUE, comment.char = \"\", ...)\n",
       "\n",
       "read.delim2(file, header = TRUE, sep = \"\\t\", quote = \"\\\"\",\n",
       "            dec = \",\", fill = TRUE, comment.char = \"\", ...)\n",
       "\\end{verbatim}\n",
       "\\end{Usage}\n",
       "%\n",
       "\\begin{Arguments}\n",
       "\\begin{ldescription}\n",
       "\\item[\\code{file}] the name of the file which the data are to be read from.\n",
       "Each row of the table appears as one line of the file.  If it does\n",
       "not contain an \\emph{absolute} path, the file name is\n",
       "\\emph{relative} to the current working directory,\n",
       "\\code{\\LinkA{getwd}{getwd}()}. Tilde-expansion is performed where supported.\n",
       "This can be a compressed file (see \\code{\\LinkA{file}{file}}).\n",
       "\n",
       "Alternatively, \\code{file} can be a readable text-mode\n",
       "\\LinkA{connection}{connection} (which will be opened for reading if\n",
       "necessary, and if so \\code{\\LinkA{close}{close}}d (and hence destroyed) at\n",
       "the end of the function call).  (If \\code{\\LinkA{stdin}{stdin}()} is used,\n",
       "the prompts for lines may be somewhat confusing.  Terminate input\n",
       "with a blank line or an EOF signal, \\code{Ctrl-D} on Unix and\n",
       "\\code{Ctrl-Z} on Windows.  Any pushback on \\code{stdin()} will be\n",
       "cleared before return.)\n",
       "\n",
       "\\code{file} can also be a complete URL.  (For the supported URL\n",
       "schemes, see the `URLs' section of the help for\n",
       "\\code{\\LinkA{url}{url}}.)\n",
       "\n",
       "\n",
       "\\item[\\code{header}] a logical value indicating whether the file contains the\n",
       "names of the variables as its first line.  If missing, the value is\n",
       "determined from the file format: \\code{header} is set to \\code{TRUE}\n",
       "if and only if the first row contains one fewer field than the\n",
       "number of columns.\n",
       "\n",
       "\\item[\\code{sep}] the field separator character.  Values on each line of the\n",
       "file are separated by this character.  If \\code{sep = \"\"} (the\n",
       "default for \\code{read.table}) the separator is `white space',\n",
       "that is one or more spaces, tabs, newlines or carriage returns.\n",
       "\n",
       "\\item[\\code{quote}] the set of quoting characters. To disable quoting\n",
       "altogether, use \\code{quote = \"\"}.  See \\code{\\LinkA{scan}{scan}} for the\n",
       "behaviour on quotes embedded in quotes.  Quoting is only considered\n",
       "for columns read as character, which is all of them unless\n",
       "\\code{colClasses} is specified.\n",
       "\n",
       "\\item[\\code{dec}] the character used in the file for decimal points.\n",
       "\n",
       "\\item[\\code{numerals}] string indicating how to convert numbers whose conversion\n",
       "to double precision would lose accuracy, see \\code{\\LinkA{type.convert}{type.convert}}.\n",
       "Can be abbreviated.  (Applies also to complex-number inputs.)\n",
       "\n",
       "\\item[\\code{row.names}] a vector of row names.  This can be a vector giving\n",
       "the actual row names, or a single number giving the column of the\n",
       "table which contains the row names, or character string giving the\n",
       "name of the table column containing the row names.\n",
       "\n",
       "If there is a header and the first row contains one fewer field than\n",
       "the number of columns, the first column in the input is used for the\n",
       "row names.  Otherwise if \\code{row.names} is missing, the rows are\n",
       "numbered.\n",
       "\n",
       "Using \\code{row.names = NULL} forces row numbering. Missing or\n",
       "\\code{NULL} \\code{row.names} generate row names that are considered\n",
       "to be `automatic' (and not preserved by \\code{\\LinkA{as.matrix}{as.matrix}}).\n",
       "\n",
       "\n",
       "\\item[\\code{col.names}] a vector of optional names for the variables.\n",
       "The default is to use \\code{\"V\"} followed by the column number.\n",
       "\n",
       "\\item[\\code{as.is}] controls conversion of character variables (insofar as\n",
       "they are not converted to logical, numeric or complex) to factors,\n",
       "if not otherwise specified by \\code{colClasses}.\n",
       "Its value is either a vector of logicals (values are recycled if\n",
       "necessary), or a vector of numeric or character indices which\n",
       "specify which columns should not be converted to factors.\n",
       "\n",
       "Note: to suppress all conversions including those of numeric\n",
       "columns, set \\code{colClasses = \"character\"}.\n",
       "\n",
       "Note that \\code{as.is} is specified per column (not per\n",
       "variable) and so includes the column of row names (if any) and any\n",
       "columns to be skipped.\n",
       "\n",
       "\n",
       "\\item[\\code{na.strings}] a character vector of strings which are to be\n",
       "interpreted as \\code{\\LinkA{NA}{NA}} values.  Blank fields are also\n",
       "considered to be missing values in logical, integer, numeric and\n",
       "complex fields.  Note that the test happens \\emph{after} \n",
       "white space is stripped from the input, so \\code{na.strings} \n",
       "values may need their own white space stripped in advance.\n",
       "\n",
       "\\item[\\code{colClasses}] character.  A vector of classes to be assumed for\n",
       "the columns.  If unnamed, recycled as necessary.  If named, names\n",
       "are matched with unspecified values being taken to be \\code{NA}.\n",
       "\n",
       "Possible values are \\code{NA} (the default, when\n",
       "\\code{\\LinkA{type.convert}{type.convert}} is used), \\code{\"NULL\"} (when the column\n",
       "is skipped), one of the atomic vector classes (logical, integer,\n",
       "numeric, complex, character, raw), or \\code{\"factor\"}, \\code{\"Date\"}\n",
       "or \\code{\"POSIXct\"}.  Otherwise there needs to be an \\code{as}\n",
       "method (from package \\pkg{methods}) for conversion from\n",
       "\\code{\"character\"} to the specified formal class.\n",
       "\n",
       "Note that \\code{colClasses} is specified per column (not per\n",
       "variable) and so includes the column of row names (if any).\n",
       "\n",
       "\n",
       "\\item[\\code{nrows}] integer: the maximum number of rows to read in.  Negative\n",
       "and other invalid values are ignored.\n",
       "\n",
       "\\item[\\code{skip}] integer: the number of lines of the data file to skip before\n",
       "beginning to read data.\n",
       "\n",
       "\\item[\\code{check.names}] logical.  If \\code{TRUE} then the names of the\n",
       "variables in the data frame are checked to ensure that they are\n",
       "syntactically valid variable names.  If necessary they are adjusted\n",
       "(by \\code{\\LinkA{make.names}{make.names}}) so that they are, and also to ensure\n",
       "that there are no duplicates.\n",
       "\n",
       "\\item[\\code{fill}] logical. If \\code{TRUE} then in case the rows have unequal\n",
       "length, blank fields are implicitly added.  See `Details'.\n",
       "\n",
       "\\item[\\code{strip.white}] logical. Used only when \\code{sep} has\n",
       "been specified, and allows the stripping of leading and trailing\n",
       "white space from unquoted \\code{character} fields (\\code{numeric} fields\n",
       "are always stripped).  See \\code{\\LinkA{scan}{scan}} for further details\n",
       "(including the exact meaning of `white space'),\n",
       "remembering that the columns may include the row names.\n",
       "\n",
       "\\item[\\code{blank.lines.skip}] logical: if \\code{TRUE} blank lines in the\n",
       "input are ignored.\n",
       "\n",
       "\\item[\\code{comment.char}] character: a character vector of length one\n",
       "containing a single character or an empty string.  Use \\code{\"\"} to\n",
       "turn off the interpretation of comments altogether.\n",
       "\n",
       "\\item[\\code{allowEscapes}] logical.  Should C-style escapes such as\n",
       "\\samp{\\bsl{}n} be processed or read verbatim (the default)?   Note that if\n",
       "not within quotes these could be interpreted as a delimiter (but not\n",
       "as a comment character).  For more details see \\code{\\LinkA{scan}{scan}}.\n",
       "\n",
       "\\item[\\code{flush}] logical: if \\code{TRUE}, \\code{scan} will flush to the\n",
       "end of the line after reading the last of the fields requested.\n",
       "This allows putting comments after the last field.\n",
       "\n",
       "\\item[\\code{stringsAsFactors}] logical: should character vectors be converted\n",
       "to factors?  Note that this is overridden by \\code{as.is} and\n",
       "\\code{colClasses}, both of which allow finer control.\n",
       "\n",
       "\\item[\\code{fileEncoding}] character string: if non-empty declares the\n",
       "encoding used on a file (not a connection) so the character data can\n",
       "be re-encoded.  See the `Encoding' section of the help for\n",
       "\\code{\\LinkA{file}{file}}, the `R Data Import/Export' manual and\n",
       "`Note'.\n",
       "\n",
       "\n",
       "\\item[\\code{encoding}] encoding to be assumed for input strings.  It is\n",
       "used to mark character strings as known to be in\n",
       "Latin-1 or UTF-8 (see \\code{\\LinkA{Encoding}{Encoding}}): it is not used to\n",
       "re-encode the input, but allows \\R{} to handle encoded strings in\n",
       "their native encoding (if one of those two).  See `Value'\n",
       "and `Note'.\n",
       "\n",
       "\n",
       "\\item[\\code{text}] character string: if \\code{file} is not supplied and this is,\n",
       "then data are read from the value of \\code{text} via a text connection.\n",
       "Notice that a literal string can be used to include (small) data sets\n",
       "within R code.\n",
       "\n",
       "\n",
       "\\item[\\code{skipNul}] logical: should nuls be skipped?\n",
       "\n",
       "\\item[\\code{...}] Further arguments to be passed to \\code{read.table}.\n",
       "\\end{ldescription}\n",
       "\\end{Arguments}\n",
       "%\n",
       "\\begin{Details}\\relax\n",
       "This function is the principal means of reading tabular data into \\R{}.\n",
       "\n",
       "Unless \\code{colClasses} is specified, all columns are read as\n",
       "character columns and then converted using \\code{\\LinkA{type.convert}{type.convert}}\n",
       "to logical, integer, numeric, complex or (depending on \\code{as.is})\n",
       "factor as appropriate.  Quotes are (by default) interpreted in all\n",
       "fields, so a column of values like \\code{\"42\"} will result in an\n",
       "integer column.\n",
       "\n",
       "A field or line is `blank' if it contains nothing (except\n",
       "whitespace if no separator is specified) before a comment character or\n",
       "the end of the field or line.\n",
       "\n",
       "If \\code{row.names} is not specified and the header line has one less\n",
       "entry than the number of columns, the first column is taken to be the\n",
       "row names.  This allows data frames to be read in from the format in\n",
       "which they are printed.  If \\code{row.names} is specified and does\n",
       "not refer to the first column, that column is discarded from such files.\n",
       "\n",
       "The number of data columns is determined by looking at the first five\n",
       "lines of input (or the whole input if it has less than five lines), or\n",
       "from the length of \\code{col.names} if it is specified and is longer.\n",
       "This could conceivably be wrong if \\code{fill} or\n",
       "\\code{blank.lines.skip} are true, so specify \\code{col.names} if\n",
       "necessary (as in the `Examples').\n",
       "\n",
       "\\code{read.csv} and \\code{read.csv2} are identical to\n",
       "\\code{read.table} except for the defaults.  They are intended for\n",
       "reading `comma separated value' files (\\file{.csv}) or\n",
       "(\\code{read.csv2}) the variant used in countries that use a comma as\n",
       "decimal point and a semicolon as field separator.  Similarly,\n",
       "\\code{read.delim} and \\code{read.delim2} are for reading delimited\n",
       "files, defaulting to the TAB character for the delimiter.  Notice that\n",
       "\\code{header = TRUE} and \\code{fill = TRUE} in these variants, and\n",
       "that the comment character is disabled.\n",
       "\n",
       "The rest of the line after a comment character is skipped; quotes\n",
       "are not processed in comments.  Complete comment lines are allowed\n",
       "provided \\code{blank.lines.skip = TRUE}; however, comment lines prior\n",
       "to the header must have the comment character in the first non-blank\n",
       "column.\n",
       "\n",
       "Quoted fields with embedded newlines are supported except after a\n",
       "comment character.  Embedded nuls are unsupported: skipping them (with\n",
       "\\code{skipNul = TRUE}) may work.\n",
       "\\end{Details}\n",
       "%\n",
       "\\begin{Value}\n",
       "A data frame (\\code{\\LinkA{data.frame}{data.frame}}) containing a representation of\n",
       "the data in the file.\n",
       "\n",
       "Empty input is an error unless \\code{col.names} is specified, when a\n",
       "0-row data frame is returned: similarly giving just a header line if\n",
       "\\code{header = TRUE} results in a 0-row data frame.  Note that in\n",
       "either case the columns will be logical unless \\code{colClasses} was\n",
       "supplied.\n",
       "\n",
       "Character strings in the result (including factor levels) will have a\n",
       "declared encoding if \\code{encoding} is \\code{\"latin1\"} or\n",
       "\\code{\"UTF-8\"}.\n",
       "\\end{Value}\n",
       "%\n",
       "\\begin{Section}{CSV files}\n",
       "See the help on \\code{\\LinkA{write.csv}{write.csv}} for the various conventions\n",
       "for \\code{.csv} files.  The commonest form of CSV file with row names\n",
       "needs to be read with \\code{read.csv(..., row.names = 1)} to use the\n",
       "names in the first column of the file as row names.\n",
       "\\end{Section}\n",
       "%\n",
       "\\begin{Section}{Memory usage}\n",
       "These functions can use a surprising amount of memory when reading\n",
       "large files.  There is extensive discussion in the `R Data\n",
       "Import/Export' manual, supplementing the notes here.\n",
       "\n",
       "Less memory will be used if \\code{colClasses} is specified as one of\n",
       "the six \\LinkA{atomic}{atomic} vector classes.  This can be particularly so when\n",
       "reading a column that takes many distinct numeric values, as storing\n",
       "each distinct value as a character string can take up to 14 times as\n",
       "much memory as storing it as an integer.\n",
       "\n",
       "Using \\code{nrows}, even as a mild over-estimate, will help memory\n",
       "usage.\n",
       "\n",
       "Using \\code{comment.char = \"\"} will be appreciably faster than the\n",
       "\\code{read.table} default.\n",
       "\n",
       "\\code{read.table} is not the right tool for reading large matrices,\n",
       "especially those with many columns: it is designed to read\n",
       "\\emph{data frames} which may have columns of very different classes.\n",
       "Use \\code{\\LinkA{scan}{scan}} instead for matrices.\n",
       "\\end{Section}\n",
       "%\n",
       "\\begin{Note}\\relax\n",
       "The columns referred to in \\code{as.is} and \\code{colClasses} include\n",
       "the column of row names (if any).\n",
       "\n",
       "There are two approaches for reading input that is not in the local\n",
       "encoding.  If the input is known to be UTF-8 or Latin1, use the\n",
       "\\code{encoding} argument to declare that.  If the input is in some\n",
       "other encoding, then it may be translated on input.  The \\code{fileEncoding}\n",
       "argument achieves this by setting up a connection to do the re-encoding\n",
       "into the current locale.  Note that on Windows or other systems not running\n",
       "in a UTF-8 locale, this may not be possible.\n",
       "\\end{Note}\n",
       "%\n",
       "\\begin{References}\\relax\n",
       "Chambers, J. M. (1992)\n",
       "\\emph{Data for models.}\n",
       "Chapter 3 of \\emph{Statistical Models in S}\n",
       "eds J. M. Chambers and T. J. Hastie, Wadsworth \\& Brooks/Cole.\n",
       "\\end{References}\n",
       "%\n",
       "\\begin{SeeAlso}\\relax\n",
       "The `R Data Import/Export' manual.\n",
       "\n",
       "\\code{\\LinkA{scan}{scan}}, \\code{\\LinkA{type.convert}{type.convert}},\n",
       "\\code{\\LinkA{read.fwf}{read.fwf}} for reading \\emph{f}ixed \\emph{w}idth\n",
       "\\emph{f}ormatted input;\n",
       "\\code{\\LinkA{write.table}{write.table}};\n",
       "\\code{\\LinkA{data.frame}{data.frame}}.\n",
       "\n",
       "\\code{\\LinkA{count.fields}{count.fields}} can be useful to determine problems with\n",
       "reading files which result in reports of incorrect record lengths (see\n",
       "the `Examples' below).\n",
       "\n",
       "\\url{https://tools.ietf.org/html/rfc4180} for the IANA definition of\n",
       "CSV files (which requires comma as separator and CRLF line endings).\n",
       "\\end{SeeAlso}\n",
       "%\n",
       "\\begin{Examples}\n",
       "\\begin{ExampleCode}\n",
       "## using count.fields to handle unknown maximum number of fields\n",
       "## when fill = TRUE\n",
       "test1 <- c(1:5, \"6,7\", \"8,9,10\")\n",
       "tf <- tempfile()\n",
       "writeLines(test1, tf)\n",
       "\n",
       "read.csv(tf, fill = TRUE) # 1 column\n",
       "ncol <- max(count.fields(tf, sep = \",\"))\n",
       "read.csv(tf, fill = TRUE, header = FALSE,\n",
       "         col.names = paste0(\"V\", seq_len(ncol)))\n",
       "unlink(tf)\n",
       "\n",
       "## \"Inline\" data set, using text=\n",
       "## Notice that leading and trailing empty lines are auto-trimmed\n",
       "\n",
       "read.table(header = TRUE, text = \"\n",
       "a b\n",
       "1 2\n",
       "3 4\n",
       "\")\n",
       "\\end{ExampleCode}\n",
       "\\end{Examples}"
      ],
      "text/plain": [
       "read.table                package:utils                R Documentation\n",
       "\n",
       "_\bD_\ba_\bt_\ba _\bI_\bn_\bp_\bu_\bt\n",
       "\n",
       "_\bD_\be_\bs_\bc_\br_\bi_\bp_\bt_\bi_\bo_\bn:\n",
       "\n",
       "     Reads a file in table format and creates a data frame from it,\n",
       "     with cases corresponding to lines and variables to fields in the\n",
       "     file.\n",
       "\n",
       "_\bU_\bs_\ba_\bg_\be:\n",
       "\n",
       "     read.table(file, header = FALSE, sep = \"\", quote = \"\\\"'\",\n",
       "                dec = \".\", numerals = c(\"allow.loss\", \"warn.loss\", \"no.loss\"),\n",
       "                row.names, col.names, as.is = !stringsAsFactors,\n",
       "                na.strings = \"NA\", colClasses = NA, nrows = -1,\n",
       "                skip = 0, check.names = TRUE, fill = !blank.lines.skip,\n",
       "                strip.white = FALSE, blank.lines.skip = TRUE,\n",
       "                comment.char = \"#\",\n",
       "                allowEscapes = FALSE, flush = FALSE,\n",
       "                stringsAsFactors = FALSE,\n",
       "                fileEncoding = \"\", encoding = \"unknown\", text, skipNul = FALSE)\n",
       "     \n",
       "     read.csv(file, header = TRUE, sep = \",\", quote = \"\\\"\",\n",
       "              dec = \".\", fill = TRUE, comment.char = \"\", ...)\n",
       "     \n",
       "     read.csv2(file, header = TRUE, sep = \";\", quote = \"\\\"\",\n",
       "               dec = \",\", fill = TRUE, comment.char = \"\", ...)\n",
       "     \n",
       "     read.delim(file, header = TRUE, sep = \"\\t\", quote = \"\\\"\",\n",
       "                dec = \".\", fill = TRUE, comment.char = \"\", ...)\n",
       "     \n",
       "     read.delim2(file, header = TRUE, sep = \"\\t\", quote = \"\\\"\",\n",
       "                 dec = \",\", fill = TRUE, comment.char = \"\", ...)\n",
       "     \n",
       "_\bA_\br_\bg_\bu_\bm_\be_\bn_\bt_\bs:\n",
       "\n",
       "    file: the name of the file which the data are to be read from.\n",
       "          Each row of the table appears as one line of the file.  If it\n",
       "          does not contain an _absolute_ path, the file name is\n",
       "          _relative_ to the current working directory, 'getwd()'.\n",
       "          Tilde-expansion is performed where supported.  This can be a\n",
       "          compressed file (see 'file').\n",
       "\n",
       "          Alternatively, 'file' can be a readable text-mode connection\n",
       "          (which will be opened for reading if necessary, and if so\n",
       "          'close'd (and hence destroyed) at the end of the function\n",
       "          call).  (If 'stdin()' is used, the prompts for lines may be\n",
       "          somewhat confusing.  Terminate input with a blank line or an\n",
       "          EOF signal, 'Ctrl-D' on Unix and 'Ctrl-Z' on Windows.  Any\n",
       "          pushback on 'stdin()' will be cleared before return.)\n",
       "\n",
       "          'file' can also be a complete URL.  (For the supported URL\n",
       "          schemes, see the 'URLs' section of the help for 'url'.)\n",
       "\n",
       "  header: a logical value indicating whether the file contains the\n",
       "          names of the variables as its first line.  If missing, the\n",
       "          value is determined from the file format: 'header' is set to\n",
       "          'TRUE' if and only if the first row contains one fewer field\n",
       "          than the number of columns.\n",
       "\n",
       "     sep: the field separator character.  Values on each line of the\n",
       "          file are separated by this character.  If 'sep = \"\"' (the\n",
       "          default for 'read.table') the separator is 'white space',\n",
       "          that is one or more spaces, tabs, newlines or carriage\n",
       "          returns.\n",
       "\n",
       "   quote: the set of quoting characters. To disable quoting altogether,\n",
       "          use 'quote = \"\"'.  See 'scan' for the behaviour on quotes\n",
       "          embedded in quotes.  Quoting is only considered for columns\n",
       "          read as character, which is all of them unless 'colClasses'\n",
       "          is specified.\n",
       "\n",
       "     dec: the character used in the file for decimal points.\n",
       "\n",
       "numerals: string indicating how to convert numbers whose conversion to\n",
       "          double precision would lose accuracy, see 'type.convert'.\n",
       "          Can be abbreviated.  (Applies also to complex-number inputs.)\n",
       "\n",
       "row.names: a vector of row names.  This can be a vector giving the\n",
       "          actual row names, or a single number giving the column of the\n",
       "          table which contains the row names, or character string\n",
       "          giving the name of the table column containing the row names.\n",
       "\n",
       "          If there is a header and the first row contains one fewer\n",
       "          field than the number of columns, the first column in the\n",
       "          input is used for the row names.  Otherwise if 'row.names' is\n",
       "          missing, the rows are numbered.\n",
       "\n",
       "          Using 'row.names = NULL' forces row numbering. Missing or\n",
       "          'NULL' 'row.names' generate row names that are considered to\n",
       "          be 'automatic' (and not preserved by 'as.matrix').\n",
       "\n",
       "col.names: a vector of optional names for the variables.  The default\n",
       "          is to use '\"V\"' followed by the column number.\n",
       "\n",
       "   as.is: controls conversion of character variables (insofar as they\n",
       "          are not converted to logical, numeric or complex) to factors,\n",
       "          if not otherwise specified by 'colClasses'.  Its value is\n",
       "          either a vector of logicals (values are recycled if\n",
       "          necessary), or a vector of numeric or character indices which\n",
       "          specify which columns should not be converted to factors.\n",
       "\n",
       "          Note: to suppress all conversions including those of numeric\n",
       "          columns, set 'colClasses = \"character\"'.\n",
       "\n",
       "          Note that 'as.is' is specified per column (not per variable)\n",
       "          and so includes the column of row names (if any) and any\n",
       "          columns to be skipped.\n",
       "\n",
       "na.strings: a character vector of strings which are to be interpreted\n",
       "          as 'NA' values.  Blank fields are also considered to be\n",
       "          missing values in logical, integer, numeric and complex\n",
       "          fields.  Note that the test happens _after_ white space is\n",
       "          stripped from the input, so 'na.strings' values may need\n",
       "          their own white space stripped in advance.\n",
       "\n",
       "colClasses: character.  A vector of classes to be assumed for the\n",
       "          columns.  If unnamed, recycled as necessary.  If named, names\n",
       "          are matched with unspecified values being taken to be 'NA'.\n",
       "\n",
       "          Possible values are 'NA' (the default, when 'type.convert' is\n",
       "          used), '\"NULL\"' (when the column is skipped), one of the\n",
       "          atomic vector classes (logical, integer, numeric, complex,\n",
       "          character, raw), or '\"factor\"', '\"Date\"' or '\"POSIXct\"'.\n",
       "          Otherwise there needs to be an 'as' method (from package\n",
       "          'methods') for conversion from '\"character\"' to the specified\n",
       "          formal class.\n",
       "\n",
       "          Note that 'colClasses' is specified per column (not per\n",
       "          variable) and so includes the column of row names (if any).\n",
       "\n",
       "   nrows: integer: the maximum number of rows to read in.  Negative and\n",
       "          other invalid values are ignored.\n",
       "\n",
       "    skip: integer: the number of lines of the data file to skip before\n",
       "          beginning to read data.\n",
       "\n",
       "check.names: logical.  If 'TRUE' then the names of the variables in the\n",
       "          data frame are checked to ensure that they are syntactically\n",
       "          valid variable names.  If necessary they are adjusted (by\n",
       "          'make.names') so that they are, and also to ensure that there\n",
       "          are no duplicates.\n",
       "\n",
       "    fill: logical. If 'TRUE' then in case the rows have unequal length,\n",
       "          blank fields are implicitly added.  See 'Details'.\n",
       "\n",
       "strip.white: logical. Used only when 'sep' has been specified, and\n",
       "          allows the stripping of leading and trailing white space from\n",
       "          unquoted 'character' fields ('numeric' fields are always\n",
       "          stripped).  See 'scan' for further details (including the\n",
       "          exact meaning of 'white space'), remembering that the columns\n",
       "          may include the row names.\n",
       "\n",
       "blank.lines.skip: logical: if 'TRUE' blank lines in the input are\n",
       "          ignored.\n",
       "\n",
       "comment.char: character: a character vector of length one containing a\n",
       "          single character or an empty string.  Use '\"\"' to turn off\n",
       "          the interpretation of comments altogether.\n",
       "\n",
       "allowEscapes: logical.  Should C-style escapes such as '\\n' be\n",
       "          processed or read verbatim (the default)?  Note that if not\n",
       "          within quotes these could be interpreted as a delimiter (but\n",
       "          not as a comment character).  For more details see 'scan'.\n",
       "\n",
       "   flush: logical: if 'TRUE', 'scan' will flush to the end of the line\n",
       "          after reading the last of the fields requested.  This allows\n",
       "          putting comments after the last field.\n",
       "\n",
       "stringsAsFactors: logical: should character vectors be converted to\n",
       "          factors?  Note that this is overridden by 'as.is' and\n",
       "          'colClasses', both of which allow finer control.\n",
       "\n",
       "fileEncoding: character string: if non-empty declares the encoding used\n",
       "          on a file (not a connection) so the character data can be\n",
       "          re-encoded.  See the 'Encoding' section of the help for\n",
       "          'file', the 'R Data Import/Export' manual and 'Note'.\n",
       "\n",
       "encoding: encoding to be assumed for input strings.  It is used to mark\n",
       "          character strings as known to be in Latin-1 or UTF-8 (see\n",
       "          'Encoding'): it is not used to re-encode the input, but\n",
       "          allows R to handle encoded strings in their native encoding\n",
       "          (if one of those two).  See 'Value' and 'Note'.\n",
       "\n",
       "    text: character string: if 'file' is not supplied and this is, then\n",
       "          data are read from the value of 'text' via a text connection.\n",
       "          Notice that a literal string can be used to include (small)\n",
       "          data sets within R code.\n",
       "\n",
       " skipNul: logical: should nuls be skipped?\n",
       "\n",
       "     ...: Further arguments to be passed to 'read.table'.\n",
       "\n",
       "_\bD_\be_\bt_\ba_\bi_\bl_\bs:\n",
       "\n",
       "     This function is the principal means of reading tabular data into\n",
       "     R.\n",
       "\n",
       "     Unless 'colClasses' is specified, all columns are read as\n",
       "     character columns and then converted using 'type.convert' to\n",
       "     logical, integer, numeric, complex or (depending on 'as.is')\n",
       "     factor as appropriate.  Quotes are (by default) interpreted in all\n",
       "     fields, so a column of values like '\"42\"' will result in an\n",
       "     integer column.\n",
       "\n",
       "     A field or line is 'blank' if it contains nothing (except\n",
       "     whitespace if no separator is specified) before a comment\n",
       "     character or the end of the field or line.\n",
       "\n",
       "     If 'row.names' is not specified and the header line has one less\n",
       "     entry than the number of columns, the first column is taken to be\n",
       "     the row names.  This allows data frames to be read in from the\n",
       "     format in which they are printed.  If 'row.names' is specified and\n",
       "     does not refer to the first column, that column is discarded from\n",
       "     such files.\n",
       "\n",
       "     The number of data columns is determined by looking at the first\n",
       "     five lines of input (or the whole input if it has less than five\n",
       "     lines), or from the length of 'col.names' if it is specified and\n",
       "     is longer.  This could conceivably be wrong if 'fill' or\n",
       "     'blank.lines.skip' are true, so specify 'col.names' if necessary\n",
       "     (as in the 'Examples').\n",
       "\n",
       "     'read.csv' and 'read.csv2' are identical to 'read.table' except\n",
       "     for the defaults.  They are intended for reading 'comma separated\n",
       "     value' files ('.csv') or ('read.csv2') the variant used in\n",
       "     countries that use a comma as decimal point and a semicolon as\n",
       "     field separator.  Similarly, 'read.delim' and 'read.delim2' are\n",
       "     for reading delimited files, defaulting to the TAB character for\n",
       "     the delimiter.  Notice that 'header = TRUE' and 'fill = TRUE' in\n",
       "     these variants, and that the comment character is disabled.\n",
       "\n",
       "     The rest of the line after a comment character is skipped; quotes\n",
       "     are not processed in comments.  Complete comment lines are allowed\n",
       "     provided 'blank.lines.skip = TRUE'; however, comment lines prior\n",
       "     to the header must have the comment character in the first\n",
       "     non-blank column.\n",
       "\n",
       "     Quoted fields with embedded newlines are supported except after a\n",
       "     comment character.  Embedded nuls are unsupported: skipping them\n",
       "     (with 'skipNul = TRUE') may work.\n",
       "\n",
       "_\bV_\ba_\bl_\bu_\be:\n",
       "\n",
       "     A data frame ('data.frame') containing a representation of the\n",
       "     data in the file.\n",
       "\n",
       "     Empty input is an error unless 'col.names' is specified, when a\n",
       "     0-row data frame is returned: similarly giving just a header line\n",
       "     if 'header = TRUE' results in a 0-row data frame.  Note that in\n",
       "     either case the columns will be logical unless 'colClasses' was\n",
       "     supplied.\n",
       "\n",
       "     Character strings in the result (including factor levels) will\n",
       "     have a declared encoding if 'encoding' is '\"latin1\"' or '\"UTF-8\"'.\n",
       "\n",
       "_\bC_\bS_\bV _\bf_\bi_\bl_\be_\bs:\n",
       "\n",
       "     See the help on 'write.csv' for the various conventions for '.csv'\n",
       "     files.  The commonest form of CSV file with row names needs to be\n",
       "     read with 'read.csv(..., row.names = 1)' to use the names in the\n",
       "     first column of the file as row names.\n",
       "\n",
       "_\bM_\be_\bm_\bo_\br_\by _\bu_\bs_\ba_\bg_\be:\n",
       "\n",
       "     These functions can use a surprising amount of memory when reading\n",
       "     large files.  There is extensive discussion in the 'R Data\n",
       "     Import/Export' manual, supplementing the notes here.\n",
       "\n",
       "     Less memory will be used if 'colClasses' is specified as one of\n",
       "     the six atomic vector classes.  This can be particularly so when\n",
       "     reading a column that takes many distinct numeric values, as\n",
       "     storing each distinct value as a character string can take up to\n",
       "     14 times as much memory as storing it as an integer.\n",
       "\n",
       "     Using 'nrows', even as a mild over-estimate, will help memory\n",
       "     usage.\n",
       "\n",
       "     Using 'comment.char = \"\"' will be appreciably faster than the\n",
       "     'read.table' default.\n",
       "\n",
       "     'read.table' is not the right tool for reading large matrices,\n",
       "     especially those with many columns: it is designed to read _data\n",
       "     frames_ which may have columns of very different classes.  Use\n",
       "     'scan' instead for matrices.\n",
       "\n",
       "_\bN_\bo_\bt_\be:\n",
       "\n",
       "     The columns referred to in 'as.is' and 'colClasses' include the\n",
       "     column of row names (if any).\n",
       "\n",
       "     There are two approaches for reading input that is not in the\n",
       "     local encoding.  If the input is known to be UTF-8 or Latin1, use\n",
       "     the 'encoding' argument to declare that.  If the input is in some\n",
       "     other encoding, then it may be translated on input.  The\n",
       "     'fileEncoding' argument achieves this by setting up a connection\n",
       "     to do the re-encoding into the current locale.  Note that on\n",
       "     Windows or other systems not running in a UTF-8 locale, this may\n",
       "     not be possible.\n",
       "\n",
       "_\bR_\be_\bf_\be_\br_\be_\bn_\bc_\be_\bs:\n",
       "\n",
       "     Chambers, J. M. (1992) _Data for models._ Chapter 3 of\n",
       "     _Statistical Models in S_ eds J. M. Chambers and T. J. Hastie,\n",
       "     Wadsworth & Brooks/Cole.\n",
       "\n",
       "_\bS_\be_\be _\bA_\bl_\bs_\bo:\n",
       "\n",
       "     The 'R Data Import/Export' manual.\n",
       "\n",
       "     'scan', 'type.convert', 'read.fwf' for reading _f_ixed _w_idth\n",
       "     _f_ormatted input; 'write.table'; 'data.frame'.\n",
       "\n",
       "     'count.fields' can be useful to determine problems with reading\n",
       "     files which result in reports of incorrect record lengths (see the\n",
       "     'Examples' below).\n",
       "\n",
       "     <https://tools.ietf.org/html/rfc4180> for the IANA definition of\n",
       "     CSV files (which requires comma as separator and CRLF line\n",
       "     endings).\n",
       "\n",
       "_\bE_\bx_\ba_\bm_\bp_\bl_\be_\bs:\n",
       "\n",
       "     ## using count.fields to handle unknown maximum number of fields\n",
       "     ## when fill = TRUE\n",
       "     test1 <- c(1:5, \"6,7\", \"8,9,10\")\n",
       "     tf <- tempfile()\n",
       "     writeLines(test1, tf)\n",
       "     \n",
       "     read.csv(tf, fill = TRUE) # 1 column\n",
       "     ncol <- max(count.fields(tf, sep = \",\"))\n",
       "     read.csv(tf, fill = TRUE, header = FALSE,\n",
       "              col.names = paste0(\"V\", seq_len(ncol)))\n",
       "     unlink(tf)\n",
       "     \n",
       "     ## \"Inline\" data set, using text=\n",
       "     ## Notice that leading and trailing empty lines are auto-trimmed\n",
       "     \n",
       "     read.table(header = TRUE, text = \"\n",
       "     a b\n",
       "     1 2\n",
       "     3 4\n",
       "     \")\n",
       "     "
      ]
     },
     "metadata": {},
     "output_type": "display_data"
    }
   ],
   "source": [
    "?read.csv"
   ]
  },
  {
   "cell_type": "code",
   "execution_count": 11,
   "id": "charitable-story",
   "metadata": {},
   "outputs": [
    {
     "data": {
      "text/plain": [
       "\n",
       "\tBox-Ljung test\n",
       "\n",
       "data:  stresi\n",
       "X-squared = 11.18, df = 10, p-value = 0.3437\n"
      ]
     },
     "metadata": {},
     "output_type": "display_data"
    }
   ],
   "source": [
    "stresi=residuals(sbux_garch,standardize=T)\n",
    "Box.test(stresi,lag=10,type=\"Ljung\")"
   ]
  },
  {
   "cell_type": "markdown",
   "id": "israeli-rings",
   "metadata": {},
   "source": [
    "Using the $\\alpha=0.05$ significance level, the $p=0.34 > \\alpha$, then not reject the null hypothesis that the standardized residuals $\\epsilon_t$ are uncorrelated. \n",
    "\n",
    "Thus, the model satisfies the assumption the standardized residuals $\\epsilon_t$ are uncorrelated and obeys a normal distribution. And we claim that the model pass the model checking."
   ]
  },
  {
   "cell_type": "markdown",
   "id": "stone-moderator",
   "metadata": {},
   "source": [
    "## 2. Consider the daily percentage log returns of S&P 500 index in Problem 1."
   ]
  },
  {
   "cell_type": "code",
   "execution_count": 12,
   "id": "promotional-swimming",
   "metadata": {},
   "outputs": [],
   "source": [
    "sp500_simple_return = read.csv(\"data/d-sbuxsp0106.csv\")[,3]"
   ]
  },
  {
   "cell_type": "code",
   "execution_count": 13,
   "id": "smoking-syracuse",
   "metadata": {},
   "outputs": [],
   "source": [
    "# convert the simple return to percentage log return \n",
    "sp500_data = log(1+sp500_simple_return)*100"
   ]
  },
  {
   "cell_type": "markdown",
   "id": "falling-intensity",
   "metadata": {},
   "source": [
    "#### a. Is there any serial correlation in the log returns of S&P index?"
   ]
  },
  {
   "cell_type": "code",
   "execution_count": 14,
   "id": "passing-division",
   "metadata": {},
   "outputs": [
    {
     "data": {
      "image/png": "[encoded data removed]",
      "text/plain": [
       "Plot with title \"ACF\""
      ]
     },
     "metadata": {
      "image/png": {
       "height": 420,
       "width": 420
      }
     },
     "output_type": "display_data"
    }
   ],
   "source": [
    "acf(sp500_data,10,main=\"ACF\",col=\"red\",ylim=c(-0.2,1))"
   ]
  },
  {
   "cell_type": "code",
   "execution_count": 15,
   "id": "fancy-crest",
   "metadata": {},
   "outputs": [
    {
     "data": {
      "text/plain": [
       "\n",
       "\tBox-Ljung test\n",
       "\n",
       "data:  sp500_data\n",
       "X-squared = 12.253, df = 10, p-value = 0.2685\n"
      ]
     },
     "metadata": {},
     "output_type": "display_data"
    }
   ],
   "source": [
    "Box.test(sp500_data,lag=10,type=\"Ljung\")"
   ]
  },
  {
   "cell_type": "markdown",
   "id": "radio-harbor",
   "metadata": {},
   "source": [
    "Using the $\\alpha=0.05$ significance level, the $p=0.27 > \\alpha$, then not reject the null hypothesis. \n",
    "\n",
    "Thus, claim that there aren't any serial correlation in the percentage log return of S&P500 index data."
   ]
  },
  {
   "cell_type": "markdown",
   "id": "least-tennessee",
   "metadata": {},
   "source": [
    "#### b. Is there any ARCH effect in the log return series of S&P index?"
   ]
  },
  {
   "cell_type": "code",
   "execution_count": 16,
   "id": "vocational-activity",
   "metadata": {},
   "outputs": [
    {
     "data": {
      "image/png": "[encoded data removed]",
      "text/plain": [
       "Plot with title \"\""
      ]
     },
     "metadata": {
      "image/png": {
       "height": 420,
       "width": 420
      }
     },
     "output_type": "display_data"
    }
   ],
   "source": [
    "sp500_at=sp500_data-mean(sp500_data)\n",
    "acf(sp500_at^2,10,main=\"\",col=\"red\",ylim=c(-0.2,0.4))"
   ]
  },
  {
   "cell_type": "code",
   "execution_count": 17,
   "id": "printable-northwest",
   "metadata": {},
   "outputs": [
    {
     "data": {
      "text/plain": [
       "\n",
       "\tBox-Ljung test\n",
       "\n",
       "data:  sp500_at^2\n",
       "X-squared = 850.73, df = 10, p-value < 2.2e-16\n"
      ]
     },
     "metadata": {},
     "output_type": "display_data"
    }
   ],
   "source": [
    "Box.test(sp500_at^2,lag=10,type=\"Ljung\")"
   ]
  },
  {
   "cell_type": "markdown",
   "id": "amber-sheep",
   "metadata": {},
   "source": [
    "Using the $\\alpha=0.05$ significance level, the $p < 2.2e-16 << \\alpha$, then reject the null hypothesis. \n",
    "\n",
    "Thus, claim that there is ARCH correlation in the percentage log return of S&P 500 index data."
   ]
  },
  {
   "cell_type": "markdown",
   "id": "funny-slovak",
   "metadata": {},
   "source": [
    "#### c. Fit an IGARCH(1,1) model for the log return series of the index \n",
    "using normal distribution for the innovations."
   ]
  },
  {
   "cell_type": "code",
   "execution_count": 18,
   "id": "encouraging-freedom",
   "metadata": {},
   "outputs": [
    {
     "name": "stderr",
     "output_type": "stream",
     "text": [
      "Warning message:\n",
      "\"程辑包'rugarch'是用R版本4.2.3 来建造的\"\n",
      "载入需要的程辑包：parallel\n",
      "\n",
      "\n",
      "载入程辑包：'rugarch'\n",
      "\n",
      "\n",
      "The following object is masked from 'package:stats':\n",
      "\n",
      "    sigma\n",
      "\n",
      "\n"
     ]
    }
   ],
   "source": [
    "library(\"rugarch\");"
   ]
  },
  {
   "cell_type": "code",
   "execution_count": 19,
   "id": "existing-unknown",
   "metadata": {},
   "outputs": [
    {
     "data": {
      "text/plain": [
       "\n",
       "*---------------------------------*\n",
       "*          GARCH Model Fit        *\n",
       "*---------------------------------*\n",
       "\n",
       "Conditional Variance Dynamics \t\n",
       "-----------------------------------\n",
       "GARCH Model\t: iGARCH(1,1)\n",
       "Mean Model\t: ARFIMA(0,0,0)\n",
       "Distribution\t: norm \n",
       "\n",
       "Optimal Parameters\n",
       "------------------------------------\n",
       "        Estimate  Std. Error  t value Pr(>|t|)\n",
       "mu      0.039700    0.020102   1.9749 0.048283\n",
       "omega   0.003201    0.001920   1.6671 0.095485\n",
       "alpha1  0.067541    0.013261   5.0933 0.000000\n",
       "beta1   0.932459          NA       NA       NA\n",
       "\n",
       "Robust Standard Errors:\n",
       "        Estimate  Std. Error  t value Pr(>|t|)\n",
       "mu      0.039700    0.020512   1.9354 0.052938\n",
       "omega   0.003201    0.002431   1.3168 0.187911\n",
       "alpha1  0.067541    0.017749   3.8053 0.000142\n",
       "beta1   0.932459          NA       NA       NA\n",
       "\n",
       "LogLikelihood : -2007.41 \n",
       "\n",
       "Information Criteria\n",
       "------------------------------------\n",
       "                   \n",
       "Akaike       2.6681\n",
       "Bayes        2.6787\n",
       "Shibata      2.6681\n",
       "Hannan-Quinn 2.6720\n",
       "\n",
       "Weighted Ljung-Box Test on Standardized Residuals\n",
       "------------------------------------\n",
       "                        statistic p-value\n",
       "Lag[1]                      1.933 0.16440\n",
       "Lag[2*(p+q)+(p+q)-1][2]     3.588 0.09732\n",
       "Lag[4*(p+q)+(p+q)-1][5]     4.898 0.16142\n",
       "d.o.f=0\n",
       "H0 : No serial correlation\n",
       "\n",
       "Weighted Ljung-Box Test on Standardized Squared Residuals\n",
       "------------------------------------\n",
       "                        statistic p-value\n",
       "Lag[1]                      1.171  0.2793\n",
       "Lag[2*(p+q)+(p+q)-1][5]     3.114  0.3867\n",
       "Lag[4*(p+q)+(p+q)-1][9]     4.048  0.5808\n",
       "d.o.f=2\n",
       "\n",
       "Weighted ARCH LM Tests\n",
       "------------------------------------\n",
       "            Statistic Shape Scale P-Value\n",
       "ARCH Lag[3]     1.454 0.500 2.000  0.2279\n",
       "ARCH Lag[5]     1.943 1.440 1.667  0.4840\n",
       "ARCH Lag[7]     2.370 2.315 1.543  0.6393\n",
       "\n",
       "Nyblom stability test\n",
       "------------------------------------\n",
       "Joint Statistic:  0.5758\n",
       "Individual Statistics:              \n",
       "mu     0.13820\n",
       "omega  0.06809\n",
       "alpha1 0.09692\n",
       "\n",
       "Asymptotic Critical Values (10% 5% 1%)\n",
       "Joint Statistic:     \t 0.846 1.01 1.35\n",
       "Individual Statistic:\t 0.35 0.47 0.75\n",
       "\n",
       "Sign Bias Test\n",
       "------------------------------------\n",
       "                   t-value     prob sig\n",
       "Sign Bias           0.1060 0.915608    \n",
       "Negative Sign Bias  0.5657 0.571671    \n",
       "Positive Sign Bias  2.8767 0.004076 ***\n",
       "Joint Effect       13.6418 0.003436 ***\n",
       "\n",
       "\n",
       "Adjusted Pearson Goodness-of-Fit Test:\n",
       "------------------------------------\n",
       "  group statistic p-value(g-1)\n",
       "1    20     36.90     0.008162\n",
       "2    30     44.94     0.029837\n",
       "3    40     57.46     0.028571\n",
       "4    50     62.38     0.094972\n",
       "\n",
       "\n",
       "Elapsed time : 0.07351899 \n"
      ]
     },
     "metadata": {},
     "output_type": "display_data"
    }
   ],
   "source": [
    "sp500_spec=ugarchspec(variance.model=list(model=\"iGARCH\", garchOrder=c(1,1)),\n",
    "                 mean.model=list(armaOrder=c(0,0)) )\n",
    "sp500_igarch=ugarchfit(spec=sp500_spec,data=sp500_data)\n",
    "sp500_igarch"
   ]
  },
  {
   "cell_type": "markdown",
   "id": "chinese-ethics",
   "metadata": {},
   "source": [
    "#### d. Compute 1 to 4-step ahead forecasts for the daily percentage log return and its 1-step forecasting interval."
   ]
  },
  {
   "cell_type": "code",
   "execution_count": 20,
   "id": "applicable-start",
   "metadata": {},
   "outputs": [
    {
     "name": "stderr",
     "output_type": "stream",
     "text": [
      "Warning message in `setfixed<-`(`*tmp*`, value = as.list(pars)):\n",
      "\"Unrecognized Parameter in Fixed Values: beta1...Ignored\"\n"
     ]
    },
    {
     "data": {
      "text/plain": [
       "\n",
       "*------------------------------------*\n",
       "*       GARCH Model Forecast         *\n",
       "*------------------------------------*\n",
       "Model: iGARCH\n",
       "Horizon: 4\n",
       "Roll Steps: 0\n",
       "Out of Sample: 0\n",
       "\n",
       "0-roll forecast [T0=1974-02-16 08:00:00]:\n",
       "    Series  Sigma\n",
       "T+1 0.0397 0.5003\n",
       "T+2 0.0397 0.5035\n",
       "T+3 0.0397 0.5066\n",
       "T+4 0.0397 0.5098\n",
       "\n"
      ]
     },
     "metadata": {},
     "output_type": "display_data"
    }
   ],
   "source": [
    "sp500_forecast = ugarchforecast(sp500_igarch,n.ahead=4)\n",
    "sp500_forecast"
   ]
  },
  {
   "cell_type": "markdown",
   "id": "convertible-burner",
   "metadata": {},
   "source": [
    "## 3. Again, consider the daily percentage log returns of Starbucks stock\n",
    "in Problem 1.\n",
    "### a. Fit a GARCH(1,1)-M model for the series with normal distribution.\n",
    "Write down the fitted model."
   ]
  },
  {
   "cell_type": "code",
   "execution_count": 21,
   "id": "surgical-expansion",
   "metadata": {},
   "outputs": [
    {
     "data": {
      "text/plain": [
       "\n",
       "*---------------------------------*\n",
       "*          GARCH Model Fit        *\n",
       "*---------------------------------*\n",
       "\n",
       "Conditional Variance Dynamics \t\n",
       "-----------------------------------\n",
       "GARCH Model\t: sGARCH(1,1)\n",
       "Mean Model\t: ARFIMA(0,0,0)\n",
       "Distribution\t: norm \n",
       "\n",
       "Optimal Parameters\n",
       "------------------------------------\n",
       "        Estimate  Std. Error   t value Pr(>|t|)\n",
       "mu      0.200560    0.112708   1.77946 0.075164\n",
       "archm  -0.022277    0.029817  -0.74712 0.454990\n",
       "omega   0.016130    0.005970   2.70175 0.006898\n",
       "alpha1  0.019818    0.001982   9.99963 0.000000\n",
       "beta1   0.975892    0.001020 956.57538 0.000000\n",
       "\n",
       "Robust Standard Errors:\n",
       "        Estimate  Std. Error   t value Pr(>|t|)\n",
       "mu      0.200560    0.113843   1.76172 0.078117\n",
       "archm  -0.022277    0.030976  -0.71917 0.472039\n",
       "omega   0.016130    0.010918   1.47740 0.139567\n",
       "alpha1  0.019818    0.003121   6.34923 0.000000\n",
       "beta1   0.975892    0.002123 459.69840 0.000000\n",
       "\n",
       "LogLikelihood : -3155.382 \n",
       "\n",
       "Information Criteria\n",
       "------------------------------------\n",
       "                   \n",
       "Akaike       4.1943\n",
       "Bayes        4.2119\n",
       "Shibata      4.1942\n",
       "Hannan-Quinn 4.2008\n",
       "\n",
       "Weighted Ljung-Box Test on Standardized Residuals\n",
       "------------------------------------\n",
       "                        statistic  p-value\n",
       "Lag[1]                      7.112 0.007657\n",
       "Lag[2*(p+q)+(p+q)-1][2]     7.676 0.007886\n",
       "Lag[4*(p+q)+(p+q)-1][5]     8.546 0.021531\n",
       "d.o.f=0\n",
       "H0 : No serial correlation\n",
       "\n",
       "Weighted Ljung-Box Test on Standardized Squared Residuals\n",
       "------------------------------------\n",
       "                        statistic p-value\n",
       "Lag[1]                     0.1155  0.7340\n",
       "Lag[2*(p+q)+(p+q)-1][5]    0.8992  0.8820\n",
       "Lag[4*(p+q)+(p+q)-1][9]    2.2133  0.8781\n",
       "d.o.f=2\n",
       "\n",
       "Weighted ARCH LM Tests\n",
       "------------------------------------\n",
       "            Statistic Shape Scale P-Value\n",
       "ARCH Lag[3]   0.05544 0.500 2.000  0.8139\n",
       "ARCH Lag[5]   1.84766 1.440 1.667  0.5059\n",
       "ARCH Lag[7]   2.28264 2.315 1.543  0.6576\n",
       "\n",
       "Nyblom stability test\n",
       "------------------------------------\n",
       "Joint Statistic:  0.5237\n",
       "Individual Statistics:              \n",
       "mu     0.07017\n",
       "archm  0.05278\n",
       "omega  0.07548\n",
       "alpha1 0.15801\n",
       "beta1  0.11801\n",
       "\n",
       "Asymptotic Critical Values (10% 5% 1%)\n",
       "Joint Statistic:     \t 1.28 1.47 1.88\n",
       "Individual Statistic:\t 0.35 0.47 0.75\n",
       "\n",
       "Sign Bias Test\n",
       "------------------------------------\n",
       "                   t-value   prob sig\n",
       "Sign Bias           1.2053 0.2283    \n",
       "Negative Sign Bias  0.1429 0.8864    \n",
       "Positive Sign Bias  1.0620 0.2884    \n",
       "Joint Effect        1.8753 0.5987    \n",
       "\n",
       "\n",
       "Adjusted Pearson Goodness-of-Fit Test:\n",
       "------------------------------------\n",
       "  group statistic p-value(g-1)\n",
       "1    20     61.53    2.208e-06\n",
       "2    30     75.59    5.014e-06\n",
       "3    40     96.58    8.662e-07\n",
       "4    50     98.08    3.981e-05\n",
       "\n",
       "\n",
       "Elapsed time : 0.2888939 \n"
      ]
     },
     "metadata": {},
     "output_type": "display_data"
    }
   ],
   "source": [
    "sbux_garch11m_spec = ugarchspec(variance.model = list(model=\"sGARCH\", garchOrder=c(1, 1)),\n",
    "                            mean.model=list(armaOrder=c(0, 0), include.mean=T, archm=T,archpow=2),\n",
    "                            distribution.model=\"norm\")\n",
    "sbux_garch11m = ugarchfit(spec=sbux_garch11m_spec,data=sbux_data)\n",
    "sbux_garch11m"
   ]
  },
  {
   "cell_type": "markdown",
   "id": "baking-spell",
   "metadata": {},
   "source": [
    "### b. Is the ARCH-in-mean parameter significant at the 5% level?\n",
    "\n",
    "The p-value for the archm parameter is about $0.46 > \\alpha=0.05$, then it isn't significant.  "
   ]
  },
  {
   "cell_type": "markdown",
   "id": "lovely-preliminary",
   "metadata": {},
   "source": [
    "### c. Fit a EGARCH(1,1) model with normal innovations to the log returnseries. \n",
    "\n",
    "Perform model checking and write down the fitted model."
   ]
  },
  {
   "cell_type": "code",
   "execution_count": 22,
   "id": "atomic-progressive",
   "metadata": {},
   "outputs": [
    {
     "data": {
      "text/plain": [
       "\n",
       "*---------------------------------*\n",
       "*          GARCH Model Fit        *\n",
       "*---------------------------------*\n",
       "\n",
       "Conditional Variance Dynamics \t\n",
       "-----------------------------------\n",
       "GARCH Model\t: eGARCH(1,1)\n",
       "Mean Model\t: ARFIMA(0,0,0)\n",
       "Distribution\t: norm \n",
       "\n",
       "Optimal Parameters\n",
       "------------------------------------\n",
       "        Estimate  Std. Error     t value Pr(>|t|)\n",
       "mu      0.091661    0.048768      1.8795 0.060174\n",
       "omega   0.010878    0.001545      7.0392 0.000000\n",
       "alpha1 -0.039484    0.008608     -4.5871 0.000004\n",
       "beta1   0.993389    0.000003 356469.8386 0.000000\n",
       "gamma1  0.047904    0.002278     21.0290 0.000000\n",
       "\n",
       "Robust Standard Errors:\n",
       "        Estimate  Std. Error     t value Pr(>|t|)\n",
       "mu      0.091661    0.056996      1.6082 0.107790\n",
       "omega   0.010878    0.001994      5.4559 0.000000\n",
       "alpha1 -0.039484    0.013822     -2.8565 0.004283\n",
       "beta1   0.993389    0.000005 212175.9476 0.000000\n",
       "gamma1  0.047904    0.003083     15.5373 0.000000\n",
       "\n",
       "LogLikelihood : -3136.98 \n",
       "\n",
       "Information Criteria\n",
       "------------------------------------\n",
       "                   \n",
       "Akaike       4.1698\n",
       "Bayes        4.1875\n",
       "Shibata      4.1698\n",
       "Hannan-Quinn 4.1764\n",
       "\n",
       "Weighted Ljung-Box Test on Standardized Residuals\n",
       "------------------------------------\n",
       "                        statistic  p-value\n",
       "Lag[1]                      7.071 0.007833\n",
       "Lag[2*(p+q)+(p+q)-1][2]     7.494 0.008814\n",
       "Lag[4*(p+q)+(p+q)-1][5]     8.259 0.025401\n",
       "d.o.f=0\n",
       "H0 : No serial correlation\n",
       "\n",
       "Weighted Ljung-Box Test on Standardized Squared Residuals\n",
       "------------------------------------\n",
       "                        statistic p-value\n",
       "Lag[1]                    0.07889  0.7788\n",
       "Lag[2*(p+q)+(p+q)-1][5]   0.82557  0.8977\n",
       "Lag[4*(p+q)+(p+q)-1][9]   2.16029  0.8850\n",
       "d.o.f=2\n",
       "\n",
       "Weighted ARCH LM Tests\n",
       "------------------------------------\n",
       "            Statistic Shape Scale P-Value\n",
       "ARCH Lag[3]    0.2468 0.500 2.000  0.6193\n",
       "ARCH Lag[5]    1.8000 1.440 1.667  0.5171\n",
       "ARCH Lag[7]    2.1997 2.315 1.543  0.6751\n",
       "\n",
       "Nyblom stability test\n",
       "------------------------------------\n",
       "Joint Statistic:  0.6499\n",
       "Individual Statistics:              \n",
       "mu     0.02715\n",
       "omega  0.08811\n",
       "alpha1 0.27487\n",
       "beta1  0.14065\n",
       "gamma1 0.09410\n",
       "\n",
       "Asymptotic Critical Values (10% 5% 1%)\n",
       "Joint Statistic:     \t 1.28 1.47 1.88\n",
       "Individual Statistic:\t 0.35 0.47 0.75\n",
       "\n",
       "Sign Bias Test\n",
       "------------------------------------\n",
       "                   t-value   prob sig\n",
       "Sign Bias           1.2353 0.2169    \n",
       "Negative Sign Bias  0.7897 0.4298    \n",
       "Positive Sign Bias  1.4540 0.1462    \n",
       "Joint Effect        2.7559 0.4308    \n",
       "\n",
       "\n",
       "Adjusted Pearson Goodness-of-Fit Test:\n",
       "------------------------------------\n",
       "  group statistic p-value(g-1)\n",
       "1    20     58.51    6.648e-06\n",
       "2    30     71.57    1.842e-05\n",
       "3    40     85.06    2.837e-05\n",
       "4    50    103.92    7.994e-06\n",
       "\n",
       "\n",
       "Elapsed time : 0.5236771 \n"
      ]
     },
     "metadata": {},
     "output_type": "display_data"
    }
   ],
   "source": [
    "sbux_egarch11_spec = ugarchspec(variance.model = list(model=\"eGARCH\", garchOrder=c(1, 1)),\n",
    "                            mean.model=list(armaOrder=c(0, 0), include.mean=T),\n",
    "                            distribution.model=\"norm\")\n",
    "sbux_egarch11 = ugarchfit(spec=sbux_egarch11_spec,data=sbux_data)\n",
    "sbux_egarch11"
   ]
  },
  {
   "cell_type": "markdown",
   "id": "mechanical-baseball",
   "metadata": {},
   "source": [
    "### d. Is the leverage parameter significant?\n",
    "\n",
    "The p-value of the leverage parameter $\\gamma_1$ is less than $10^{-6} << \\alpha=0.05$, then we can claim that the leverage parameter is significant. "
   ]
  },
  {
   "cell_type": "markdown",
   "id": "equipped-farming",
   "metadata": {},
   "source": [
    "## 4. The data file m-pg5606.txt contains the date and monthly simple\n",
    "returns of Procter & Gamble (PG) stock from 1956 to 2006. Transform\n",
    "the simple returns into **percentage log returns**."
   ]
  },
  {
   "cell_type": "code",
   "execution_count": 23,
   "id": "wireless-johns",
   "metadata": {},
   "outputs": [],
   "source": [
    "pg_simple_return = read.csv(\"data/m-pg5606.csv\")[,2]\n",
    "\n",
    "pg_data = 100*log(1+pg_simple_return)"
   ]
  },
  {
   "cell_type": "markdown",
   "id": "professional-minnesota",
   "metadata": {},
   "source": [
    "### a. Is there any serial correlation in the monthly log returns of PG stock?"
   ]
  },
  {
   "cell_type": "code",
   "execution_count": 24,
   "id": "psychological-viewer",
   "metadata": {},
   "outputs": [
    {
     "data": {
      "image/png": "[encoded data removed]",
      "text/plain": [
       "Plot with title \"ACF\""
      ]
     },
     "metadata": {
      "image/png": {
       "height": 420,
       "width": 420
      }
     },
     "output_type": "display_data"
    }
   ],
   "source": [
    "acf(pg_data,10,main=\"ACF\",col=\"red\",ylim=c(-0.2,1))"
   ]
  },
  {
   "cell_type": "code",
   "execution_count": 25,
   "id": "geographic-serum",
   "metadata": {},
   "outputs": [
    {
     "data": {
      "text/plain": [
       "\n",
       "\tBox-Ljung test\n",
       "\n",
       "data:  pg_data\n",
       "X-squared = 9.65, df = 10, p-value = 0.4717\n"
      ]
     },
     "metadata": {},
     "output_type": "display_data"
    }
   ],
   "source": [
    "Box.test(pg_data,lag=10,type=\"Ljung\")"
   ]
  },
  {
   "cell_type": "markdown",
   "id": "acknowledged-pittsburgh",
   "metadata": {},
   "source": [
    "Using the $\\alpha=0.05$ significance level, the $p=0.47 > \\alpha=0.05$, then not reject the null hypothesis. \n",
    "\n",
    "Thus, claim that there isn't any serial correlation in the percentage log return of PG data."
   ]
  },
  {
   "cell_type": "markdown",
   "id": "sunset-genealogy",
   "metadata": {},
   "source": [
    "### b. Fit a GARCH(1,1) model to the monthly percentage log returns of\n",
    "PG stock using normal distribution for the innovations. Write down the\n",
    "fitted model."
   ]
  },
  {
   "cell_type": "code",
   "execution_count": 26,
   "id": "concerned-newfoundland",
   "metadata": {},
   "outputs": [
    {
     "name": "stdout",
     "output_type": "stream",
     "text": [
      "\n",
      "Title:\n",
      " GARCH Modelling \n",
      "\n",
      "Call:\n",
      " garchFit(formula = ~garch(1, 1), data = pg_data, trace = F) \n",
      "\n",
      "Mean and Variance Equation:\n",
      " data ~ garch(1, 1)\n",
      "<environment: 0x000001f4b59436c0>\n",
      " [data = pg_data]\n",
      "\n",
      "Conditional Distribution:\n",
      " norm \n",
      "\n",
      "Coefficient(s):\n",
      "      mu     omega    alpha1     beta1  \n",
      "0.856225  0.853618  0.096304  0.862410  \n",
      "\n",
      "Std. Errors:\n",
      " based on Hessian \n",
      "\n",
      "Error Analysis:\n",
      "        Estimate  Std. Error  t value Pr(>|t|)    \n",
      "mu       0.85622     0.15801    5.419    6e-08 ***\n",
      "omega    0.85362     0.39203    2.177 0.029449 *  \n",
      "alpha1   0.09630     0.02697    3.571 0.000355 ***\n",
      "beta1    0.86241     0.03133   27.528  < 2e-16 ***\n",
      "---\n",
      "Signif. codes:  0 '***' 0.001 '**' 0.01 '*' 0.05 '.' 0.1 ' ' 1\n",
      "\n",
      "Log Likelihood:\n",
      " -1743.948    normalized:  -2.849587 \n",
      "\n",
      "Description:\n",
      " Wed Apr 19 19:01:16 2023 by user: CreatorFan \n",
      "\n",
      "\n",
      "Standardised Residuals Tests:\n",
      "                                Statistic p-Value     \n",
      " Jarque-Bera Test   R    Chi^2  312.8953  0           \n",
      " Shapiro-Wilk Test  R    W      0.9616424 1.507019e-11\n",
      " Ljung-Box Test     R    Q(10)  7.001436  0.7253094   \n",
      " Ljung-Box Test     R    Q(15)  10.47684  0.7887227   \n",
      " Ljung-Box Test     R    Q(20)  17.58843  0.6145001   \n",
      " Ljung-Box Test     R^2  Q(10)  4.06128   0.9445402   \n",
      " Ljung-Box Test     R^2  Q(15)  5.256457  0.9897233   \n",
      " Ljung-Box Test     R^2  Q(20)  6.492069  0.9980484   \n",
      " LM Arch Test       R    TR^2   4.234314  0.9788274   \n",
      "\n",
      "Information Criterion Statistics:\n",
      "     AIC      BIC      SIC     HQIC \n",
      "5.712247 5.741114 5.712162 5.723474 \n",
      "\n"
     ]
    }
   ],
   "source": [
    "pg_garch = garchFit(~garch(1,1),data=pg_data,trace = F)\n",
    "summary(pg_garch)"
   ]
  },
  {
   "cell_type": "markdown",
   "id": "destroyed-tongue",
   "metadata": {},
   "source": [
    "### c. Use the fitted model to calculate 1-step to 5-step ahead forecasts for\n",
    "the log returns series and its 1-step forecasting interval"
   ]
  },
  {
   "cell_type": "code",
   "execution_count": 27,
   "id": "planned-ebony",
   "metadata": {},
   "outputs": [
    {
     "data": {
      "text/html": [
       "<table class=\"dataframe\">\n",
       "<caption>A data.frame: 5 × 5</caption>\n",
       "<thead>\n",
       "\t<tr><th scope=col>meanForecast</th><th scope=col>meanError</th><th scope=col>standardDeviation</th><th scope=col>lowerInterval</th><th scope=col>upperInterval</th></tr>\n",
       "\t<tr><th scope=col>&lt;dbl&gt;</th><th scope=col>&lt;dbl&gt;</th><th scope=col>&lt;dbl&gt;</th><th scope=col>&lt;dbl&gt;</th><th scope=col>&lt;dbl&gt;</th></tr>\n",
       "</thead>\n",
       "<tbody>\n",
       "\t<tr><td>0.8562246</td><td>2.952357</td><td>2.952357</td><td>-4.930289</td><td>6.642738</td></tr>\n",
       "\t<tr><td>0.8562246</td><td>3.034825</td><td>3.034825</td><td>-5.091923</td><td>6.804372</td></tr>\n",
       "\t<tr><td>0.8562246</td><td>3.111837</td><td>3.111837</td><td>-5.242863</td><td>6.955312</td></tr>\n",
       "\t<tr><td>0.8562246</td><td>3.183920</td><td>3.183920</td><td>-5.384145</td><td>7.096594</td></tr>\n",
       "\t<tr><td>0.8562246</td><td>3.251528</td><td>3.251528</td><td>-5.516653</td><td>7.229102</td></tr>\n",
       "</tbody>\n",
       "</table>\n"
      ],
      "text/latex": [
       "A data.frame: 5 × 5\n",
       "\\begin{tabular}{lllll}\n",
       " meanForecast & meanError & standardDeviation & lowerInterval & upperInterval\\\\\n",
       " <dbl> & <dbl> & <dbl> & <dbl> & <dbl>\\\\\n",
       "\\hline\n",
       "\t 0.8562246 & 2.952357 & 2.952357 & -4.930289 & 6.642738\\\\\n",
       "\t 0.8562246 & 3.034825 & 3.034825 & -5.091923 & 6.804372\\\\\n",
       "\t 0.8562246 & 3.111837 & 3.111837 & -5.242863 & 6.955312\\\\\n",
       "\t 0.8562246 & 3.183920 & 3.183920 & -5.384145 & 7.096594\\\\\n",
       "\t 0.8562246 & 3.251528 & 3.251528 & -5.516653 & 7.229102\\\\\n",
       "\\end{tabular}\n"
      ],
      "text/markdown": [
       "\n",
       "A data.frame: 5 × 5\n",
       "\n",
       "| meanForecast &lt;dbl&gt; | meanError &lt;dbl&gt; | standardDeviation &lt;dbl&gt; | lowerInterval &lt;dbl&gt; | upperInterval &lt;dbl&gt; |\n",
       "|---|---|---|---|---|\n",
       "| 0.8562246 | 2.952357 | 2.952357 | -4.930289 | 6.642738 |\n",
       "| 0.8562246 | 3.034825 | 3.034825 | -5.091923 | 6.804372 |\n",
       "| 0.8562246 | 3.111837 | 3.111837 | -5.242863 | 6.955312 |\n",
       "| 0.8562246 | 3.183920 | 3.183920 | -5.384145 | 7.096594 |\n",
       "| 0.8562246 | 3.251528 | 3.251528 | -5.516653 | 7.229102 |\n",
       "\n"
      ],
      "text/plain": [
       "  meanForecast meanError standardDeviation lowerInterval upperInterval\n",
       "1 0.8562246    2.952357  2.952357          -4.930289     6.642738     \n",
       "2 0.8562246    3.034825  3.034825          -5.091923     6.804372     \n",
       "3 0.8562246    3.111837  3.111837          -5.242863     6.955312     \n",
       "4 0.8562246    3.183920  3.183920          -5.384145     7.096594     \n",
       "5 0.8562246    3.251528  3.251528          -5.516653     7.229102     "
      ]
     },
     "metadata": {},
     "output_type": "display_data"
    },
    {
     "data": {
      "image/png": "[encoded data removed]",
      "text/plain": [
       "Plot with title \"Prediction with confidence intervals\""
      ]
     },
     "metadata": {
      "image/png": {
       "height": 420,
       "width": 420
      }
     },
     "output_type": "display_data"
    }
   ],
   "source": [
    "predict(pg_garch, n.ahead = 5, trace = F, mse = c(\"cond\",\"uncond\"), plot=T)"
   ]
  },
  {
   "cell_type": "markdown",
   "id": "everyday-congress",
   "metadata": {},
   "source": [
    "## 5. The file d-exuseu.txt contains the daily exchange rate between U.S.\n",
    "Dollars and Euro from January 1999 to March 20, 2007. Compute the\n",
    "**percentage log returns** of the exchange rate."
   ]
  },
  {
   "cell_type": "code",
   "execution_count": 28,
   "id": "southern-sector",
   "metadata": {},
   "outputs": [],
   "source": [
    "exchange_rate = read.csv(\"data/d-exuseu.csv\")[,2]\n",
    "\n",
    "# convert price to percentage log return \n",
    "\n",
    "exchange_data = 100*diff(log(exchange_rate))"
   ]
  },
  {
   "cell_type": "markdown",
   "id": "correct-longitude",
   "metadata": {},
   "source": [
    "### a. Is there any serial correlation in the log return series?"
   ]
  },
  {
   "cell_type": "code",
   "execution_count": 29,
   "id": "grateful-raise",
   "metadata": {},
   "outputs": [
    {
     "data": {
      "image/png": "[encoded data removed]",
      "text/plain": [
       "Plot with title \"ACF\""
      ]
     },
     "metadata": {
      "image/png": {
       "height": 420,
       "width": 420
      }
     },
     "output_type": "display_data"
    }
   ],
   "source": [
    "acf(exchange_data,10,main=\"ACF\",col=\"red\",ylim=c(-0.2,1))"
   ]
  },
  {
   "cell_type": "code",
   "execution_count": 30,
   "id": "alpha-grammar",
   "metadata": {},
   "outputs": [
    {
     "data": {
      "text/plain": [
       "\n",
       "\tBox-Ljung test\n",
       "\n",
       "data:  exchange_data\n",
       "X-squared = 11.921, df = 10, p-value = 0.2904\n"
      ]
     },
     "metadata": {},
     "output_type": "display_data"
    }
   ],
   "source": [
    "Box.test(exchange_data,lag=10,type=\"Ljung\")"
   ]
  },
  {
   "cell_type": "markdown",
   "id": "recreational-community",
   "metadata": {},
   "source": [
    "Using the $\\alpha=0.05$ significance level, the $p=0.29 > \\alpha=0.05$, then not reject the null hypothesis. \n",
    "\n",
    "Thus, claim that there isn't any serial correlation in the percentage log return of Exchange data."
   ]
  },
  {
   "cell_type": "markdown",
   "id": "union-radical",
   "metadata": {},
   "source": [
    "### b. Is there any ARCH effect in the log return series?"
   ]
  },
  {
   "cell_type": "code",
   "execution_count": 31,
   "id": "fiscal-judge",
   "metadata": {},
   "outputs": [],
   "source": [
    "exchange_at = exchange_data-mean(exchange_data)"
   ]
  },
  {
   "cell_type": "code",
   "execution_count": 32,
   "id": "experienced-neighbor",
   "metadata": {},
   "outputs": [
    {
     "data": {
      "image/png": "[encoded data removed]",
      "text/plain": [
       "Plot with title \"\""
      ]
     },
     "metadata": {
      "image/png": {
       "height": 420,
       "width": 420
      }
     },
     "output_type": "display_data"
    }
   ],
   "source": [
    "acf(exchange_at^2,10,main=\"\",col=\"red\",ylim=c(-0.2,0.4))"
   ]
  },
  {
   "cell_type": "code",
   "execution_count": 33,
   "id": "artificial-leisure",
   "metadata": {},
   "outputs": [
    {
     "data": {
      "text/plain": [
       "\n",
       "\tBox-Ljung test\n",
       "\n",
       "data:  exchange_at^2\n",
       "X-squared = 29.121, df = 10, p-value = 0.001191\n"
      ]
     },
     "metadata": {},
     "output_type": "display_data"
    }
   ],
   "source": [
    "Box.test(exchange_at^2,lag=10,type=\"Ljung\")"
   ]
  },
  {
   "cell_type": "markdown",
   "id": "respected-inspiration",
   "metadata": {},
   "source": [
    "Using the $\\alpha=0.05$ significance level, the $p=0.0012 < \\alpha$, then reject the null hypothesis. \n",
    "\n",
    "Thus, claim that there is ARCH correlation in the log return of Exchange data."
   ]
  },
  {
   "cell_type": "markdown",
   "id": "welsh-reviewer",
   "metadata": {},
   "source": [
    "### c. Fit an IGARCH(1,1) model to the log return series using normal\n",
    "innovations. Perform model checking and write down the fitted model."
   ]
  },
  {
   "cell_type": "code",
   "execution_count": 34,
   "id": "known-double",
   "metadata": {},
   "outputs": [
    {
     "data": {
      "text/plain": [
       "\n",
       "*---------------------------------*\n",
       "*          GARCH Model Fit        *\n",
       "*---------------------------------*\n",
       "\n",
       "Conditional Variance Dynamics \t\n",
       "-----------------------------------\n",
       "GARCH Model\t: iGARCH(1,1)\n",
       "Mean Model\t: ARFIMA(0,0,0)\n",
       "Distribution\t: norm \n",
       "\n",
       "Optimal Parameters\n",
       "------------------------------------\n",
       "        Estimate  Std. Error  t value Pr(>|t|)\n",
       "mu      0.011123    0.012801 0.868957 0.384871\n",
       "omega   0.000004    0.000108 0.034425 0.972538\n",
       "alpha1  0.016037    0.003822 4.196091 0.000027\n",
       "beta1   0.983963          NA       NA       NA\n",
       "\n",
       "Robust Standard Errors:\n",
       "        Estimate  Std. Error  t value Pr(>|t|)\n",
       "mu      0.011123    0.013113 0.848273 0.396286\n",
       "omega   0.000004    0.000070 0.052819 0.957876\n",
       "alpha1  0.016037    0.004609 3.479640 0.000502\n",
       "beta1   0.983963          NA       NA       NA\n",
       "\n",
       "LogLikelihood : -1867.463 \n",
       "\n",
       "Information Criteria\n",
       "------------------------------------\n",
       "                   \n",
       "Akaike       1.8125\n",
       "Bayes        1.8207\n",
       "Shibata      1.8125\n",
       "Hannan-Quinn 1.8155\n",
       "\n",
       "Weighted Ljung-Box Test on Standardized Residuals\n",
       "------------------------------------\n",
       "                        statistic p-value\n",
       "Lag[1]                    0.05866  0.8086\n",
       "Lag[2*(p+q)+(p+q)-1][2]   0.07752  0.9357\n",
       "Lag[4*(p+q)+(p+q)-1][5]   2.88184  0.4291\n",
       "d.o.f=0\n",
       "H0 : No serial correlation\n",
       "\n",
       "Weighted Ljung-Box Test on Standardized Squared Residuals\n",
       "------------------------------------\n",
       "                        statistic p-value\n",
       "Lag[1]                      2.339  0.1262\n",
       "Lag[2*(p+q)+(p+q)-1][5]     3.983  0.2562\n",
       "Lag[4*(p+q)+(p+q)-1][9]     5.800  0.3218\n",
       "d.o.f=2\n",
       "\n",
       "Weighted ARCH LM Tests\n",
       "------------------------------------\n",
       "            Statistic Shape Scale P-Value\n",
       "ARCH Lag[3]    0.7202 0.500 2.000  0.3961\n",
       "ARCH Lag[5]    1.2473 1.440 1.667  0.6612\n",
       "ARCH Lag[7]    2.4343 2.315 1.543  0.6260\n",
       "\n",
       "Nyblom stability test\n",
       "------------------------------------\n",
       "Joint Statistic:  0.9087\n",
       "Individual Statistics:             \n",
       "mu     0.3856\n",
       "omega  0.3724\n",
       "alpha1 0.1687\n",
       "\n",
       "Asymptotic Critical Values (10% 5% 1%)\n",
       "Joint Statistic:     \t 0.846 1.01 1.35\n",
       "Individual Statistic:\t 0.35 0.47 0.75\n",
       "\n",
       "Sign Bias Test\n",
       "------------------------------------\n",
       "                   t-value    prob sig\n",
       "Sign Bias            1.921 0.05484   *\n",
       "Negative Sign Bias   2.118 0.03432  **\n",
       "Positive Sign Bias   1.154 0.24881    \n",
       "Joint Effect        11.167 0.01085  **\n",
       "\n",
       "\n",
       "Adjusted Pearson Goodness-of-Fit Test:\n",
       "------------------------------------\n",
       "  group statistic p-value(g-1)\n",
       "1    20     49.02    0.0001822\n",
       "2    30     61.78    0.0003685\n",
       "3    40     59.41    0.0191550\n",
       "4    50     84.01    0.0013687\n",
       "\n",
       "\n",
       "Elapsed time : 0.09371209 \n"
      ]
     },
     "metadata": {},
     "output_type": "display_data"
    }
   ],
   "source": [
    "exchange_spec=ugarchspec(variance.model=list(model=\"iGARCH\", garchOrder=c(1,1)),\n",
    "                 mean.model=list(armaOrder=c(0,0)) )\n",
    "exchange_igarch=ugarchfit(spec=exchange_spec,data=exchange_data)\n",
    "exchange_igarch"
   ]
  },
  {
   "cell_type": "code",
   "execution_count": 35,
   "id": "color-walnut",
   "metadata": {},
   "outputs": [
    {
     "data": {
      "text/plain": [
       "\n",
       "\tBox-Ljung test\n",
       "\n",
       "data:  stresi\n",
       "X-squared = 9.6109, df = 8, p-value = 0.2934\n"
      ]
     },
     "metadata": {},
     "output_type": "display_data"
    }
   ],
   "source": [
    "stresi=residuals(exchange_igarch,standardize=T)\n",
    "Box.test(stresi,lag=10,type=\"Ljung\",fitdf=2)"
   ]
  },
  {
   "cell_type": "markdown",
   "id": "willing-criminal",
   "metadata": {},
   "source": [
    "Using the $\\alpha=0.05$ significance level, the $p=0.29 > \\alpha$, then not reject the null hypothesis that the standardized residuals $\\epsilon_t$ are uncorrelated. \n",
    "\n",
    "Thus, the model satisfies the assumption the standardized residuals $\\epsilon_t$ are uncorrelated and obeys a normal distribution. And we claim that the model pass the model checking."
   ]
  },
  {
   "cell_type": "markdown",
   "id": "quick-shark",
   "metadata": {},
   "source": [
    "### d. Use the model to produce 1-step to 4-step ahead forecasts for the log return series and its 1-step forecasting interval."
   ]
  },
  {
   "cell_type": "code",
   "execution_count": 36,
   "id": "reserved-escape",
   "metadata": {},
   "outputs": [
    {
     "name": "stderr",
     "output_type": "stream",
     "text": [
      "Warning message in `setfixed<-`(`*tmp*`, value = as.list(pars)):\n",
      "\"Unrecognized Parameter in Fixed Values: beta1...Ignored\"\n"
     ]
    },
    {
     "data": {
      "text/plain": [
       "\n",
       "*------------------------------------*\n",
       "*       GARCH Model Forecast         *\n",
       "*------------------------------------*\n",
       "Model: iGARCH\n",
       "Horizon: 4\n",
       "Roll Steps: 0\n",
       "Out of Sample: 0\n",
       "\n",
       "0-roll forecast [T0=1975-08-27 09:00:00]:\n",
       "     Series  Sigma\n",
       "T+1 0.01112 0.3746\n",
       "T+2 0.01112 0.3746\n",
       "T+3 0.01112 0.3746\n",
       "T+4 0.01112 0.3746\n",
       "\n"
      ]
     },
     "metadata": {},
     "output_type": "display_data"
    }
   ],
   "source": [
    "exchange_forecast = ugarchforecast(exchange_igarch,n.ahead=4)\n",
    "exchange_forecast"
   ]
  }
 ],
 "metadata": {
  "kernelspec": {
   "display_name": "R",
   "language": "R",
   "name": "ir"
  },
  "language_info": {
   "codemirror_mode": "r",
   "file_extension": ".r",
   "mimetype": "text/x-r-source",
   "name": "R",
   "pygments_lexer": "r",
   "version": "4.2.2"
  }
 },
 "nbformat": 4,
 "nbformat_minor": 5
}
